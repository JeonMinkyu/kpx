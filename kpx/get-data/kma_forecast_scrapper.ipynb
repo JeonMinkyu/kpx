{
 "cells": [
  {
   "cell_type": "code",
   "execution_count": 1,
   "metadata": {},
   "outputs": [
    {
     "name": "stderr",
     "output_type": "stream",
     "text": [
      "/usr/lib/python3/dist-packages/requests/__init__.py:80: RequestsDependencyWarning: urllib3 (1.25.3) or chardet (3.0.4) doesn't match a supported version!\n",
      "  RequestsDependencyWarning)\n"
     ]
    }
   ],
   "source": [
    "from bs4 import BeautifulSoup\n",
    "import urllib.request\n",
    "import os\n",
    "import requests\n",
    "from selenium import webdriver\n",
    "import datetime\n",
    "import pandas as pd"
   ]
  },
  {
   "cell_type": "markdown",
   "metadata": {},
   "source": [
    "# 예보에서 가져와야 하는것\n",
    "\n",
    "- 기온\n",
    "- 강수형태(?)\n",
    "- 강수확률(%)\n",
    "- 습도(%)\n",
    "- 풍속(m/s)\n",
    "- 풍향(deg)\n",
    "- 하늘상태\n",
    "- 강수량(mm)\n",
    "- 적설\n",
    "\n",
    "## 시간별 \n",
    "- 날씨(?), 강수확률(%), 강수량(mm), 적설(cm), 기온, 풍향, 풍속(m/s), 습도(%)\n",
    "\n",
    "- 남은것 : 강수형태, 하늘상태\n",
    "- 날씨가 무얼 의미하는지 찾아서 채우기 -> 그냥 그래픽에 같은 이름을 가진 요소가 있기에 그대로 가져다 쓰겠음\n",
    "\n",
    "## 그래픽\n",
    "- 강수형태, 하늘상태"
   ]
  },
  {
   "cell_type": "markdown",
   "metadata": {},
   "source": [
    "# 시간별"
   ]
  },
  {
   "cell_type": "code",
   "execution_count": 2,
   "metadata": {},
   "outputs": [
    {
     "data": {
      "text/html": [
       "<div>\n",
       "<style scoped>\n",
       "    .dataframe tbody tr th:only-of-type {\n",
       "        vertical-align: middle;\n",
       "    }\n",
       "\n",
       "    .dataframe tbody tr th {\n",
       "        vertical-align: top;\n",
       "    }\n",
       "\n",
       "    .dataframe thead th {\n",
       "        text-align: right;\n",
       "    }\n",
       "</style>\n",
       "<table border=\"1\" class=\"dataframe\">\n",
       "  <thead>\n",
       "    <tr style=\"text-align: right;\">\n",
       "      <th></th>\n",
       "      <th>date(current)</th>\n",
       "      <th>datetime(current)</th>\n",
       "      <th>date(prediction)</th>\n",
       "      <th>datetime(prediction)</th>\n",
       "      <th>기온(℃)</th>\n",
       "      <th>강수형태</th>\n",
       "      <th>강수확률(%)</th>\n",
       "      <th>습도(%)</th>\n",
       "      <th>풍속(m/s)</th>\n",
       "      <th>풍향(deg)</th>\n",
       "      <th>하늘상태</th>\n",
       "      <th>강수량(mm)</th>\n",
       "      <th>적설(cm)</th>\n",
       "    </tr>\n",
       "  </thead>\n",
       "  <tbody>\n",
       "  </tbody>\n",
       "</table>\n",
       "</div>"
      ],
      "text/plain": [
       "Empty DataFrame\n",
       "Columns: [date(current), datetime(current), date(prediction), datetime(prediction), 기온(℃), 강수형태, 강수확률(%), 습도(%), 풍속(m/s), 풍향(deg), 하늘상태, 강수량(mm), 적설(cm)]\n",
       "Index: []"
      ]
     },
     "metadata": {},
     "output_type": "display_data"
    }
   ],
   "source": [
    "column_names = ['date(current)', \n",
    "                'datetime(current)', \n",
    "                'date(prediction)', \n",
    "                'datetime(prediction)',\n",
    "               '기온(℃)',\n",
    "               '강수형태',\n",
    "               '강수확률(%)',\n",
    "               '습도(%)',\n",
    "               '풍속(m/s)',\n",
    "               '풍향(deg)',\n",
    "               '하늘상태',\n",
    "               '강수량(mm)',\n",
    "               '적설(cm)']\n",
    "df = pd.DataFrame(columns=column_names)\n",
    "display(df)"
   ]
  },
  {
   "cell_type": "code",
   "execution_count": 3,
   "metadata": {},
   "outputs": [],
   "source": [
    "url_1 = 'https://web.kma.go.kr/weather/forecast/timeseries.jsp'"
   ]
  },
  {
   "cell_type": "code",
   "execution_count": null,
   "metadata": {},
   "outputs": [],
   "source": [
    "#path_browser = os.path.abspath(os.path.join(os.getcwd(), 'chromedriver.exe')) \n",
    "browser = webdriver.Chrome()\n",
    "browser.implicitly_wait(3)\n",
    "browser.get(url_1)"
   ]
  },
  {
   "cell_type": "code",
   "execution_count": null,
   "metadata": {},
   "outputs": [],
   "source": [
    "browser.execute_script('visibleDiv(\"layor_area\",true, null, this); return false;')\n",
    "browser.execute_script('selectLocal(\"CITY\",\"4400000000\",\"충청남도\"); return false;')\n",
    "browser.execute_script('selectLocal(\"DONG\",\"4427000000\",\"당진시\"); return false;')\n",
    "browser.execute_script('setLocal(\"4427032000\",\"석문면\"); return false;')\n",
    "browser.execute_script('refresh_dfs(); return false;')\n",
    "browser.execute_script('visibleDiv(\"layor_area\",false); reloadTown(true);  return false;')"
   ]
  },
  {
   "cell_type": "code",
   "execution_count": null,
   "metadata": {},
   "outputs": [],
   "source": [
    "html = browser.page_source\n",
    "soup = BeautifulSoup(html, 'html.parser')"
   ]
  },
  {
   "cell_type": "markdown",
   "metadata": {},
   "source": [
    "## date(current), datetime(current)"
   ]
  },
  {
   "cell_type": "code",
   "execution_count": null,
   "metadata": {},
   "outputs": [],
   "source": [
    "datetime_current = soup.find('div', attrs={'class' : 'timeseries_subn'})\n",
    "datetime_current = datetime_current.find('span').get_text()\n",
    "print(datetime_current)\n",
    "date_current = datetime_current[0:4] + '-' + datetime_current[6:8] + '-' + datetime_current[10:12] \n",
    "datetime_current = date_current + ' ' + datetime_current[20:25]+':00'\n",
    "print(date_current)\n",
    "print(datetime_current)"
   ]
  },
  {
   "cell_type": "code",
   "execution_count": null,
   "metadata": {},
   "outputs": [],
   "source": [
    "table = soup.find('div', attrs={'class' : 'timeseries_mar'})\n",
    "table = table.find('tbody')"
   ]
  },
  {
   "cell_type": "markdown",
   "metadata": {},
   "source": [
    "## date(prediction), datetime(prediction)"
   ]
  },
  {
   "cell_type": "code",
   "execution_count": null,
   "metadata": {},
   "outputs": [],
   "source": [
    "table_time = table.find('tr', attrs={'class' : 'time'})\n",
    "table_time_all = table_time.findAll('p', attrs={'class' : 'time_hr'})\n",
    "day = 0\n",
    "time_last = 0\n",
    "\n",
    "date_prediction_series = []\n",
    "datetime_prediction_series = []\n",
    "\n",
    "for idx, time in enumerate(table_time_all) :\n",
    "    # initial setting\n",
    "    datetime_prediction = ''\n",
    "    if idx == 0 :\n",
    "        time_last = int(time.get_text())\n",
    "    \n",
    "    # day changed?\n",
    "    if int(time.get_text()) < time_last :\n",
    "        day += 1\n",
    "    \n",
    "    # today, tomorrow, day after tomorrow\n",
    "    if day == 0 :\n",
    "        date_prediction = date_current\n",
    "        datetime_prediction = date_prediction + ' ' + time.get_text() + ':00:00'\n",
    "        date_prediction_series.append(date_prediction)\n",
    "        datetime_prediction_series.append(datetime_prediction)\n",
    "    if day == 1 :\n",
    "        year = int(date_current[0:4])\n",
    "        month = int(date_current[5:7])\n",
    "        date = int(date_current[8:10])\n",
    "        date_prediction = datetime.date(year, month, date)+datetime.timedelta(days=1)\n",
    "        datetime_prediction = str(date_prediction) + ' ' + time.get_text() + ':00:00'\n",
    "        date_prediction_series.append(date_prediction)\n",
    "        datetime_prediction_series.append(datetime_prediction)\n",
    "    if day == 2 :\n",
    "        year = int(date_current[0:4])\n",
    "        month = int(date_current[5:7])\n",
    "        date = int(date_current[8:10])\n",
    "        date_prediction = datetime.date(year, month, date)+datetime.timedelta(days=2)\n",
    "        datetime_prediction = str(date_prediction) + ' ' + time.get_text() + ':00:00'\n",
    "        date_prediction_series.append(date_prediction)\n",
    "        datetime_prediction_series.append(datetime_prediction)\n",
    "  \n",
    "    time_last = int(time.get_text())\n",
    "        \n",
    "    print(datetime_prediction)"
   ]
  },
  {
   "cell_type": "code",
   "execution_count": null,
   "metadata": {},
   "outputs": [],
   "source": []
  },
  {
   "cell_type": "code",
   "execution_count": null,
   "metadata": {},
   "outputs": [],
   "source": [
    "df['datetime(prediction)'] = datetime_prediction_series\n",
    "df['date(current)'] = date_current\n",
    "df['datetime(current)'] = datetime_current\n",
    "df['date(prediction)'] = date_prediction_series\n",
    "display(df)"
   ]
  },
  {
   "cell_type": "markdown",
   "metadata": {},
   "source": [
    "## ||Set date||"
   ]
  },
  {
   "cell_type": "code",
   "execution_count": null,
   "metadata": {},
   "outputs": [],
   "source": [
    "#df = df.iloc[0:15, :]\n",
    "display(df)"
   ]
  },
  {
   "cell_type": "markdown",
   "metadata": {},
   "source": [
    "## 기온"
   ]
  },
  {
   "cell_type": "code",
   "execution_count": null,
   "metadata": {},
   "outputs": [],
   "source": [
    "- 0 : 날짜\n",
    "- 1 : 시각\n",
    "- 2 : 날씨\n",
    "- 3 : 강수확률(%)\n",
    "- 4 : 강수량(mm), 적설(cm)\n",
    "- 5 : 최저/최고(℃)\n",
    "- 6 : 기온(℃)\t\n",
    "- 7 : 풍향 / 풍속(m/s)\n",
    "- 8 : 습도(%)"
   ]
  },
  {
   "cell_type": "code",
   "execution_count": null,
   "metadata": {},
   "outputs": [],
   "source": [
    "trs = table.findAll('tr')\n",
    "for idx, tr in enumerate(trs) : \n",
    "    print(idx)\n",
    "    print(tr)"
   ]
  },
  {
   "cell_type": "markdown",
   "metadata": {},
   "source": [
    "\n",
    "- 2 : 날씨\n",
    "- 눈, 흐림, 구름 많음, 구름 조금, 맑음"
   ]
  },
  {
   "cell_type": "code",
   "execution_count": null,
   "metadata": {},
   "outputs": [],
   "source": [
    "weather = trs[2]\n",
    "weather_series = []\n",
    "for td in weather.findAll('td') :\n",
    "    \n",
    "    if td.get('title') != None :\n",
    "        print(td.get(\"title\"))\n",
    "        weather_series.append(td.get('title'))"
   ]
  },
  {
   "cell_type": "code",
   "execution_count": null,
   "metadata": {},
   "outputs": [],
   "source": []
  },
  {
   "cell_type": "markdown",
   "metadata": {},
   "source": [
    "## 강수확률\n",
    "- 3 : 강수확률(%)"
   ]
  },
  {
   "cell_type": "code",
   "execution_count": null,
   "metadata": {},
   "outputs": [],
   "source": [
    "probs = trs[3]\n",
    "prob_series = []\n",
    "for prob in probs.findAll('td') :\n",
    "    print(prob.get_text())\n",
    "    if prob.get_text() != '' : \n",
    "        prob_series.append(prob.get_text())\n",
    "print(len(prob_series))"
   ]
  },
  {
   "cell_type": "code",
   "execution_count": null,
   "metadata": {},
   "outputs": [],
   "source": [
    "df['강수확률(%)'] = prob_series\n",
    "display(df)"
   ]
  },
  {
   "cell_type": "markdown",
   "metadata": {},
   "source": [
    "## 강수량, 적설\n",
    "- 4 : 강수량(mm), 적설(cm)"
   ]
  },
  {
   "cell_type": "code",
   "execution_count": null,
   "metadata": {},
   "outputs": [],
   "source": [
    "rainfalls_snows = trs[4]\n",
    "rainfall_series = []\n",
    "snow_series = []\n",
    "first_size = 0  # 첫번째가 3시간이면 1, 첫번째가 6시간이면 2\n",
    "\n",
    "for idx, rainfall_snow in enumerate(rainfalls_snows.findAll('td')) :\n",
    "    try : \n",
    "        if idx == 0 :\n",
    "            first_size = int(rainfall_snow.get('colspan'))\n",
    "        \n",
    "        temp = rainfall_snow\n",
    "        try : # <br>이 있는 경우\n",
    "            rainfall = rainfall_snow.br.previous_sibling.replace('\\t', '').replace(' ', '').replace('\\n', '')\n",
    "            snow = rainfall_snow.br.next_sibling.replace('\\t', '').replace(' ', '').replace('\\n', '')\n",
    "            if rainfall == '-' :\n",
    "                rainfall = str(0)\n",
    "            if snow == '-' :\n",
    "                snow = str(0)\n",
    "        except Exception as e : # <br>이 없는 경우 : 추측이지만 전부 - 일때인듯\n",
    "            rainfall = str(0)\n",
    "            snow = str(0)\n",
    "            \n",
    "        print(rainfall, snow)\n",
    "        rainfall_series.append(rainfall)\n",
    "        snow_series.append(snow)\n",
    "    except Exception as e :\n",
    "        print(e)\n",
    "        print('td empty')\n",
    "        \n",
    "print(first_size)"
   ]
  },
  {
   "cell_type": "markdown",
   "metadata": {},
   "source": [
    "- 첫번째 값이 3시간짜리인지, 6시간짜리인지 두가지 경우가 있음"
   ]
  },
  {
   "cell_type": "code",
   "execution_count": null,
   "metadata": {},
   "outputs": [],
   "source": [
    "rainfall_series"
   ]
  },
  {
   "cell_type": "code",
   "execution_count": null,
   "metadata": {},
   "outputs": [],
   "source": [
    "if first_size == 2 :\n",
    "    for idx in range(len(rainfall_series)-1) :\n",
    "        df['강수량(mm)'].iloc[idx*2] = rainfall_series[idx]\n",
    "        df['적설(cm)'].iloc[idx*2] = snow_series[idx]\n",
    "    \n",
    "if first_size == 1 :\n",
    "    df['강수량(mm)'].iloc[0] = rainfall_series[0]\n",
    "    df['적설(cm)'].iloc[0] = snow_series[0]\n",
    "    \n",
    "    for idx in range(len(rainfall_series)-2) :\n",
    "        df['강수량(mm)'].iloc[(idx*2)+1] = rainfall_series[idx]\n",
    "        df['적설(cm)'].iloc[(idx*2)+1] = snow_series[idx]\n",
    "\n",
    "df['강수량(mm)'] = df['강수량(mm)'].fillna(method='ffill')\n",
    "df['적설(cm)'] = df['적설(cm)'].fillna(method='ffill')\n",
    "display(df)\n",
    "\n",
    "    \n",
    "    "
   ]
  },
  {
   "cell_type": "markdown",
   "metadata": {},
   "source": [
    "## 기온\n",
    "- 6 : 기온"
   ]
  },
  {
   "cell_type": "code",
   "execution_count": null,
   "metadata": {},
   "outputs": [],
   "source": [
    "celsious = trs[6]\n",
    "celsious_series = []\n",
    "for temperature in celsious.findAll('td') :\n",
    "    celsious_series.append(temperature.get_text())\n",
    "    print(temperature.get_text())"
   ]
  },
  {
   "cell_type": "code",
   "execution_count": null,
   "metadata": {},
   "outputs": [],
   "source": [
    "print(len(celsious_series))\n",
    "print(celsious_series)\n",
    "celsious_series.pop()\n",
    "print(len(celsious_series))\n",
    "print(celsious_series)"
   ]
  },
  {
   "cell_type": "code",
   "execution_count": null,
   "metadata": {},
   "outputs": [],
   "source": [
    "df['기온(℃)'] = celsious_series\n",
    "display(df)"
   ]
  },
  {
   "cell_type": "markdown",
   "metadata": {},
   "source": [
    "## 풍향/풍속\n",
    "\n",
    "- 7 : 풍향/풍속\n",
    "\n",
    "\n",
    "- 1 :  북\n",
    "- 45 : 북동\n",
    "- 90 : 동\n",
    "- 135 : 남동\n",
    "- 180 : 남\n",
    "- 225 : 남서\n",
    "- 270 : 서\n",
    "- 315 : 북서"
   ]
  },
  {
   "cell_type": "code",
   "execution_count": null,
   "metadata": {},
   "outputs": [],
   "source": [
    "wind_dir_vels = trs[7]\n",
    "wind_dir_series = []\n",
    "wind_vel_series = []\n",
    "for wind_dir_vel in wind_dir_vels.findAll('td') :\n",
    "    temp = wind_dir_vel.get('title')\n",
    "    try : \n",
    "        wind_dir, wind_vel = temp.split(' ')\n",
    "        if wind_dir.replace('풍', '') == '북' :\n",
    "            wind_dir = 1\n",
    "        elif wind_dir.replace('풍', '') == '북동' :\n",
    "            wind_dir = 45\n",
    "        elif wind_dir.replace('풍', '') == '동' :\n",
    "            wind_dir = 90\n",
    "        elif wind_dir.replace('풍', '') == '남동' :\n",
    "            wind_dir = 135\n",
    "        elif wind_dir.replace('풍', '') == '남' :\n",
    "            wind_dir = 180\n",
    "        elif wind_dir.replace('풍', '') == '남서' :\n",
    "            wind_dir = 225\n",
    "        elif wind_dir.replace('풍', '') == '서' :\n",
    "            wind_dir = 270\n",
    "        elif wind_dir.replace('풍', '') == '북서' :\n",
    "            wind_dir = 315\n",
    "        else :\n",
    "            print('16방위가 생각한대로 나오지 않았다')\n",
    "    except Exception as e :\n",
    "        print(e)\n",
    "        wind_dir = 'NaN'\n",
    "        wind_vel = 'NaN'\n",
    "    \n",
    "        \n",
    "        \n",
    "    wind_dir_series.append(wind_dir)\n",
    "    wind_vel_series.append(wind_vel.replace('m/s', ''))\n",
    "    print(wind_dir, wind_vel.replace('m/s', ''))"
   ]
  },
  {
   "cell_type": "code",
   "execution_count": null,
   "metadata": {},
   "outputs": [],
   "source": [
    "wind_dir_series.pop()\n",
    "wind_vel_series.pop()"
   ]
  },
  {
   "cell_type": "code",
   "execution_count": null,
   "metadata": {},
   "outputs": [],
   "source": [
    "df['풍속(m/s)'] = wind_vel_series\n",
    "df['풍향(deg)'] = wind_dir_series\n",
    "display(df)"
   ]
  },
  {
   "cell_type": "code",
   "execution_count": null,
   "metadata": {},
   "outputs": [],
   "source": []
  },
  {
   "cell_type": "markdown",
   "metadata": {},
   "source": [
    "## 습도\n",
    "\n",
    "\n",
    "- 8 : 습도"
   ]
  },
  {
   "cell_type": "code",
   "execution_count": null,
   "metadata": {},
   "outputs": [],
   "source": [
    "humidities = trs[8]\n",
    "humidity_series = []\n",
    "for humidity in humidities.findAll('td') :\n",
    "    print(humidity.get_text())\n",
    "    humidity_series.append(humidity.get_text())"
   ]
  },
  {
   "cell_type": "code",
   "execution_count": null,
   "metadata": {},
   "outputs": [],
   "source": [
    "humidity_series.pop()"
   ]
  },
  {
   "cell_type": "code",
   "execution_count": null,
   "metadata": {},
   "outputs": [],
   "source": [
    "df['습도(%)'] = humidity_series\n",
    "display(df)"
   ]
  },
  {
   "cell_type": "markdown",
   "metadata": {},
   "source": [
    "## 결과"
   ]
  },
  {
   "cell_type": "code",
   "execution_count": null,
   "metadata": {},
   "outputs": [],
   "source": [
    "display(df)"
   ]
  },
  {
   "cell_type": "code",
   "execution_count": null,
   "metadata": {},
   "outputs": [],
   "source": []
  },
  {
   "cell_type": "markdown",
   "metadata": {},
   "source": [
    "## Manually modify"
   ]
  },
  {
   "cell_type": "code",
   "execution_count": null,
   "metadata": {},
   "outputs": [],
   "source": [
    "display(df)"
   ]
  },
  {
   "cell_type": "code",
   "execution_count": null,
   "metadata": {},
   "outputs": [],
   "source": [
    "#기온(℃)\t\n",
    "column_1 = [-1, -1, -1, 1, 2, 2, 1, 0, 1, 1, 2, 5, 6, 3, 2]\n",
    "df['기온(℃)'] = column_1"
   ]
  },
  {
   "cell_type": "code",
   "execution_count": null,
   "metadata": {},
   "outputs": [],
   "source": [
    "#강수형태\t\n",
    "column_2 = [0,0,0,0,0,0,0,0,0,0,0,0,0,0,0,0,0,0]\n",
    "df['강수형태'] = column_2"
   ]
  },
  {
   "cell_type": "code",
   "execution_count": null,
   "metadata": {},
   "outputs": [],
   "source": [
    "#강수확률(%)\t\n",
    "column_3 = []"
   ]
  },
  {
   "cell_type": "code",
   "execution_count": null,
   "metadata": {},
   "outputs": [],
   "source": [
    "#습도(%)\t\n",
    "column_4 = [100, 100, 100, 100, 90, 90, 95, 100, 100, 95, 95, 70, 65, 75, 80]\n",
    "df['습도(%)'] = column_4"
   ]
  },
  {
   "cell_type": "code",
   "execution_count": null,
   "metadata": {},
   "outputs": [],
   "source": [
    "#풍속(m/s)\t\n",
    "column_5 = [5, 5, 5, 4, 3, 4, 6, 5, 5, 6, 6, 6, 4, 6, 7]\n",
    "df['풍속(m/s)'] = column_5"
   ]
  },
  {
   "cell_type": "code",
   "execution_count": null,
   "metadata": {},
   "outputs": [],
   "source": [
    "#풍향(deg)\t\n",
    "column_6 = [90, 90, 45, 1, 1, 315, 315, 315, 315, 315, 315, 315, 315, 270, 315]\n",
    "df['풍향(deg)'] = column_6"
   ]
  },
  {
   "cell_type": "code",
   "execution_count": null,
   "metadata": {},
   "outputs": [],
   "source": [
    "#하늘상태\t\n",
    "column_7 = [2, 2, 2,  2, 2, 2, 2, 2, 2, 2, 2,  3, 3, 3, 1, 1, 0, 0]\n",
    "df['하늘상태'] = column_7"
   ]
  },
  {
   "cell_type": "code",
   "execution_count": null,
   "metadata": {},
   "outputs": [],
   "source": [
    "#강수량(mm)\t\n",
    "#column_8 = [2.5, 2.5, 2.5, 2.5, 2.5, 0.5, 0.5, 0, 0, 0, 0, 0, 0, 0, 0]\n",
    "#df['강수량(mm)'] = column_8\n",
    "df['강수량(mm)'].iloc[1:3] = [2.5, 2.5]"
   ]
  },
  {
   "cell_type": "code",
   "execution_count": null,
   "metadata": {},
   "outputs": [],
   "source": [
    "#적설(cm)\n",
    "#column_9 = [2.5, 2.5, 2.5, 2.5, 2.5, 0, 0, 0, 0, 0, 0, 0, 0, 0, 0]\n",
    "#df['적설(cm)'] = column_9\n",
    "df['적설(cm)'].iloc[1:3] = [2.5, 2.5]"
   ]
  },
  {
   "cell_type": "code",
   "execution_count": null,
   "metadata": {},
   "outputs": [],
   "source": [
    "display(df)"
   ]
  },
  {
   "cell_type": "code",
   "execution_count": null,
   "metadata": {},
   "outputs": [],
   "source": []
  },
  {
   "cell_type": "markdown",
   "metadata": {},
   "source": [
    "# Save as .csv file"
   ]
  },
  {
   "cell_type": "code",
   "execution_count": null,
   "metadata": {},
   "outputs": [],
   "source": [
    "path = os.path.abspath(os.path.join(os.getcwd(), '5Mar1400.csv'))\n",
    "print(path)\n",
    "df.to_csv(path, sep='\\t')"
   ]
  },
  {
   "cell_type": "code",
   "execution_count": null,
   "metadata": {},
   "outputs": [],
   "source": [
    "df_read = pd.read_csv(path, sep='\\t')\n",
    "display(df_read)"
   ]
  },
  {
   "cell_type": "code",
   "execution_count": null,
   "metadata": {},
   "outputs": [],
   "source": []
  },
  {
   "cell_type": "code",
   "execution_count": null,
   "metadata": {},
   "outputs": [],
   "source": []
  }
 ],
 "metadata": {
  "kernelspec": {
   "display_name": "Python 3",
   "language": "python",
   "name": "python3"
  },
  "language_info": {
   "codemirror_mode": {
    "name": "ipython",
    "version": 3
   },
   "file_extension": ".py",
   "mimetype": "text/x-python",
   "name": "python",
   "nbconvert_exporter": "python",
   "pygments_lexer": "ipython3",
   "version": "3.6.8"
  }
 },
 "nbformat": 4,
 "nbformat_minor": 4
}
