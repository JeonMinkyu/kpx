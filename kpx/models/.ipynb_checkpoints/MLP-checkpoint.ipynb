{
 "cells": [
  {
   "cell_type": "code",
   "execution_count": 1,
   "metadata": {},
   "outputs": [],
   "source": [
    "%load_ext autoreload\n",
    "%autoreload 2"
   ]
  },
  {
   "cell_type": "code",
   "execution_count": 20,
   "metadata": {},
   "outputs": [],
   "source": [
    "import torch\n",
    "from torch.autograd import Variable\n",
    "import torch.nn.functional as F\n",
    "import torch.utils.data as Data\n",
    "import torch.nn as nn\n",
    "import matplotlib.pyplot as plt\n",
    "%matplotlib inline\n",
    "\n",
    "import numpy as np\n",
    "import imageio\n",
    "import pandas as pd\n",
    "import numpy as np\n",
    "import seaborn as sns\n",
    "import os\n",
    "import datetime\n",
    "import math\n",
    "pd.options.mode.chained_assignment = None\n",
    "from sklearn.metrics import mean_squared_error\n",
    "from sklearn.preprocessing import MinMaxScaler\n",
    "from sklearn.preprocessing import StandardScaler\n",
    "from sklearn.model_selection import train_test_split\n",
    "\n",
    "def warn(*args, **kwargs):\n",
    "    pass\n",
    "import warnings\n",
    "warnings.warn = warn\n",
    "\n",
    "from preprocess.functions.date_inspector import load_files\n",
    "from eda.functions.eda import show_correlation, show_normalized_mutual_information, show_relative_density_plot\n",
    "from functions.evaluate import nMAE\n",
    "\n",
    "from dataset_manager import DatasetManager"
   ]
  },
  {
   "cell_type": "code",
   "execution_count": 4,
   "metadata": {},
   "outputs": [
    {
     "name": "stdout",
     "output_type": "stream",
     "text": [
      "/home/jeon/Desktop/kpx/data\n"
     ]
    }
   ],
   "source": [
    "data_dir = os.path.abspath(os.path.join(os.getcwd(), '..', 'data'))\n",
    "print(data_dir)"
   ]
  },
  {
   "cell_type": "code",
   "execution_count": 10,
   "metadata": {},
   "outputs": [],
   "source": [
    "df = pd.read_pickle(os.path.abspath(os.path.join(os.getcwd(), '..', 'data','df_forecast_kpx_fe.pkl')))"
   ]
  },
  {
   "cell_type": "code",
   "execution_count": 11,
   "metadata": {},
   "outputs": [],
   "source": [
    "df = df.fillna(method='ffill')"
   ]
  },
  {
   "cell_type": "code",
   "execution_count": 12,
   "metadata": {},
   "outputs": [],
   "source": [
    "df_1 = df.drop(['datetime','date','datetime(forecast)','date(forecast)','location'],axis=1)"
   ]
  },
  {
   "cell_type": "code",
   "execution_count": 13,
   "metadata": {},
   "outputs": [],
   "source": [
    "#### Scaling\n",
    "scaler = MinMaxScaler()\n",
    "scaler.fit(df_1)\n",
    "df_scaled=scaler.transform(df_1)"
   ]
  },
  {
   "cell_type": "code",
   "execution_count": 16,
   "metadata": {},
   "outputs": [],
   "source": [
    "df_new = pd.DataFrame(df_scaled,columns=df_1.columns)\n",
    "df_new['date'] = df['date']\n",
    "df_new['datetime'] = df['datetime']\n",
    "df_new['date(forecast)'] = df['date(forecast)']\n",
    "df_new['datetime(forecast)'] = df['datetime(forecast)']\n",
    "\n",
    "#df_new['Power Generation(kW)'] = df['Power Generation(kW)']\n",
    "dset_manager = DatasetManager(data = df_new)\n",
    "#df_data, df_date, df_y, df_x = dset_manager.return_pandas()"
   ]
  },
  {
   "cell_type": "code",
   "execution_count": 17,
   "metadata": {},
   "outputs": [],
   "source": [
    "device = torch.device('cuda:0' if torch.cuda.is_available() else 'cpu')\n",
    "batch_size=128\n",
    "train_loader, test_loader = dset_manager.get_loaders(batch_size)"
   ]
  },
  {
   "cell_type": "code",
   "execution_count": 18,
   "metadata": {},
   "outputs": [],
   "source": [
    "class MLP(nn.Module):\n",
    "    def __init__(self,n_features, n_output):\n",
    "        super(MLP, self).__init__()\n",
    "        self.hidden1 = nn.Linear(n_features, 64)\n",
    "        #self.bn1 = nn.BatchNorm1d(64)\n",
    "        self.hidden2 = nn.Linear(64, 128)\n",
    "        #self.bn2 = nn.BatchNorm1d(128)\n",
    "        self.hidden3 = nn.Linear(128, 256)\n",
    "        #self.bn3 = nn.BatchNorm1d(256)\n",
    "        self.hidden4 = nn.Linear(256, 512)\n",
    "        self.bn4 = nn.BatchNorm1d(512)\n",
    "        self.hidden5 = nn.Linear(512, 256)\n",
    "        self.bn5 = nn.BatchNorm1d(256)\n",
    "        self.hidden6 = nn.Linear(256, n_features)\n",
    "        self.bn6 = nn.BatchNorm1d(n_features)\n",
    "        self.out = nn.Linear(n_features, n_output)\n",
    "    \n",
    "    def forward(self,x):\n",
    "#         x = self.bn1(F.relu(self.hidden1(x)))\n",
    "#         x = self.bn2(F.relu(self.hidden2(x)))\n",
    "#         x = self.bn3(F.relu(self.hidden3(x)))\n",
    "        x = F.relu(self.hidden1(x))\n",
    "        x = F.relu(self.hidden2(x))\n",
    "        x = F.relu(self.hidden3(x))\n",
    "        x = self.bn4(F.relu(self.hidden4(x)))\n",
    "        x = self.bn5(F.relu(self.hidden5(x)))\n",
    "        x = self.bn6(F.relu(self.hidden6(x)))\n",
    "        x = self.out(x)\n",
    "        return x"
   ]
  },
  {
   "cell_type": "code",
   "execution_count": 24,
   "metadata": {},
   "outputs": [],
   "source": [
    "df_x = df.drop(['Power Generation(kW)+0', 'Power Generation(kW)+1',\n",
    "       'Power Generation(kW)+2','location','date','datetime','date(forecast)','datetime(forecast)'],axis=1)"
   ]
  },
  {
   "cell_type": "code",
   "execution_count": 25,
   "metadata": {},
   "outputs": [],
   "source": [
    "model = MLP(n_features=df_x.shape[1], n_output=1).to(device)\n",
    "optimizer = torch.optim.Adam(model.parameters(), lr=0.01)\n",
    "criterion = torch.nn.MSELoss()"
   ]
  },
  {
   "cell_type": "code",
   "execution_count": 26,
   "metadata": {},
   "outputs": [],
   "source": [
    "torch.multiprocessing.set_sharing_strategy('file_system')"
   ]
  },
  {
   "cell_type": "code",
   "execution_count": 34,
   "metadata": {},
   "outputs": [
    {
     "name": "stdout",
     "output_type": "stream",
     "text": [
      "Epoch [1/1000], Loss : 0.0411\n",
      "Test loss after training 0.08000495284795761\n"
     ]
    },
    {
     "ename": "KeyboardInterrupt",
     "evalue": "",
     "output_type": "error",
     "traceback": [
      "\u001b[0;31m---------------------------------------------------------------------------\u001b[0m",
      "\u001b[0;31mKeyboardInterrupt\u001b[0m                         Traceback (most recent call last)",
      "\u001b[0;32m<ipython-input-34-5cd7974e219b>\u001b[0m in \u001b[0;36m<module>\u001b[0;34m\u001b[0m\n\u001b[1;32m     24\u001b[0m         \u001b[0moptimizer\u001b[0m\u001b[0;34m.\u001b[0m\u001b[0mzero_grad\u001b[0m\u001b[0;34m(\u001b[0m\u001b[0;34m)\u001b[0m\u001b[0;34m\u001b[0m\u001b[0;34m\u001b[0m\u001b[0m\n\u001b[1;32m     25\u001b[0m         \u001b[0mloss\u001b[0m\u001b[0;34m.\u001b[0m\u001b[0mbackward\u001b[0m\u001b[0;34m(\u001b[0m\u001b[0;34m)\u001b[0m\u001b[0;34m\u001b[0m\u001b[0;34m\u001b[0m\u001b[0m\n\u001b[0;32m---> 26\u001b[0;31m         \u001b[0moptimizer\u001b[0m\u001b[0;34m.\u001b[0m\u001b[0mstep\u001b[0m\u001b[0;34m(\u001b[0m\u001b[0;34m)\u001b[0m\u001b[0;34m\u001b[0m\u001b[0;34m\u001b[0m\u001b[0m\n\u001b[0m\u001b[1;32m     27\u001b[0m     \u001b[0mloss_sum\u001b[0m \u001b[0;34m=\u001b[0m \u001b[0mloss_sum\u001b[0m\u001b[0;34m/\u001b[0m\u001b[0mlen\u001b[0m\u001b[0;34m(\u001b[0m\u001b[0mtrain_loader\u001b[0m\u001b[0;34m)\u001b[0m\u001b[0;34m/\u001b[0m\u001b[0mbatch_size\u001b[0m\u001b[0;34m\u001b[0m\u001b[0;34m\u001b[0m\u001b[0m\n\u001b[1;32m     28\u001b[0m     \u001b[0mtrain_loss\u001b[0m\u001b[0;34m.\u001b[0m\u001b[0mappend\u001b[0m\u001b[0;34m(\u001b[0m\u001b[0mloss_sum\u001b[0m\u001b[0;34m)\u001b[0m\u001b[0;34m\u001b[0m\u001b[0;34m\u001b[0m\u001b[0m\n",
      "\u001b[0;32m~/.local/lib/python3.6/site-packages/torch/optim/adam.py\u001b[0m in \u001b[0;36mstep\u001b[0;34m(self, closure)\u001b[0m\n\u001b[1;32m    105\u001b[0m                 \u001b[0mstep_size\u001b[0m \u001b[0;34m=\u001b[0m \u001b[0mgroup\u001b[0m\u001b[0;34m[\u001b[0m\u001b[0;34m'lr'\u001b[0m\u001b[0;34m]\u001b[0m \u001b[0;34m*\u001b[0m \u001b[0mmath\u001b[0m\u001b[0;34m.\u001b[0m\u001b[0msqrt\u001b[0m\u001b[0;34m(\u001b[0m\u001b[0mbias_correction2\u001b[0m\u001b[0;34m)\u001b[0m \u001b[0;34m/\u001b[0m \u001b[0mbias_correction1\u001b[0m\u001b[0;34m\u001b[0m\u001b[0;34m\u001b[0m\u001b[0m\n\u001b[1;32m    106\u001b[0m \u001b[0;34m\u001b[0m\u001b[0m\n\u001b[0;32m--> 107\u001b[0;31m                 \u001b[0mp\u001b[0m\u001b[0;34m.\u001b[0m\u001b[0mdata\u001b[0m\u001b[0;34m.\u001b[0m\u001b[0maddcdiv_\u001b[0m\u001b[0;34m(\u001b[0m\u001b[0;34m-\u001b[0m\u001b[0mstep_size\u001b[0m\u001b[0;34m,\u001b[0m \u001b[0mexp_avg\u001b[0m\u001b[0;34m,\u001b[0m \u001b[0mdenom\u001b[0m\u001b[0;34m)\u001b[0m\u001b[0;34m\u001b[0m\u001b[0;34m\u001b[0m\u001b[0m\n\u001b[0m\u001b[1;32m    108\u001b[0m \u001b[0;34m\u001b[0m\u001b[0m\n\u001b[1;32m    109\u001b[0m         \u001b[0;32mreturn\u001b[0m \u001b[0mloss\u001b[0m\u001b[0;34m\u001b[0m\u001b[0;34m\u001b[0m\u001b[0m\n",
      "\u001b[0;31mKeyboardInterrupt\u001b[0m: "
     ]
    }
   ],
   "source": [
    "epochs = 1000\n",
    "idx_lst=[]\n",
    "y_lst=[]\n",
    "y_hat_lst=[]\n",
    "\n",
    "train_loss = []\n",
    "valid_loss = []\n",
    "\n",
    "for epoch in range(epochs):\n",
    "    model.train()\n",
    "    loss_sum = 0\n",
    "    for i, (x,y) in enumerate(train_loader):\n",
    "\n",
    "        x = x.to(device)\n",
    "        y = y.to(device)\n",
    "        \n",
    "        y_hat = model(x)\n",
    "        loss = criterion(y_hat, y) #nMAE(y_hat, y, m=1) \n",
    "        \n",
    "#         idx_lst.append(idx)\n",
    "#         y_lst.append(y)\n",
    "#         y_hat_lst.append(y_hat)\n",
    "        loss_sum += loss.cpu().data.numpy()\n",
    "        optimizer.zero_grad()\n",
    "        loss.backward()\n",
    "        optimizer.step()\n",
    "    loss_sum = loss_sum/len(train_loader)/batch_size     \n",
    "    train_loss.append(loss_sum)\n",
    "    \n",
    "    loss_sum = 0\n",
    "    if (epoch) % 100 == 0:\n",
    "        print('Epoch [{}/{}], Loss : {:.4f}'.format(epoch+1, epochs, loss.cpu().data.numpy()))\n",
    "\n",
    "    with torch.no_grad():\n",
    "        z = []\n",
    "        for i, (x,y) in enumerate(test_loader):\n",
    "            test_x = x.to(device)\n",
    "            test_y = y.to(device)\n",
    "            y_pred = model(test_x)\n",
    "            \n",
    "            \n",
    "    #         print('y_pred:',y_pred, y_pred.shape)\n",
    "    #         print('test_y:',test_y, test_y.shape)\n",
    "#             plt.plot(test_y.cpu().numpy(),color='green')\n",
    "#             plt.plot(y_pred.cpu().numpy(),color='yellow')\n",
    "#             plt.show()\n",
    "            after_train = criterion(y_pred, test_y) #nMAE(y_pred, test_y,m=1) #criterion(y_pred, test_y)\n",
    "            loss_sum += after_train.item()\n",
    "        if (epoch) % 100 == 0:\n",
    "            print('Test loss after training', after_train.item())\n",
    "        loss_sum = loss_sum/len(train_loader)/batch_size\n",
    "        valid_loss.append(loss_sum)\n",
    "        "
   ]
  },
  {
   "cell_type": "code",
   "execution_count": null,
   "metadata": {},
   "outputs": [],
   "source": [
    "plt.plot(train_loss, label='train')\n",
    "plt.plot(valid_loss, label='valid')\n",
    "plt.legend()\n",
    "plt.show()"
   ]
  },
  {
   "cell_type": "code",
   "execution_count": null,
   "metadata": {},
   "outputs": [],
   "source": [
    "for i, (x,y) in enumerate(test_loader):\n",
    "    test_x = x.to(device)\n",
    "    test_y = y.to(device)\n",
    "    y_pred = model(test_x)\n",
    "#         print('y_pred:',y_pred, y_pred.shape)\n",
    "#         print('test_y:',test_y, test_y.shape)\n",
    "    plt.plot(test_y.cpu().detach(),numpy(),color='green')\n",
    "    plt.plot(y_pred.cpu().detach(),numpy(),color='yellow')\n",
    "    plt.show()\n",
    "    after_train = criterion(y_pred.squeeze(), test_y)\n",
    "print('Test loss after training', after_train.item())"
   ]
  },
  {
   "cell_type": "code",
   "execution_count": null,
   "metadata": {},
   "outputs": [],
   "source": [
    "target_date = datetime.datetime(2018, 1, 15)\n",
    "indice = (df_new['date'] == target_date)\n",
    "\n",
    "test_x = df_x[indice].values\n",
    "test_y = df_y[indice].values\n",
    "\n",
    "test_x = torch.from_numpy(test_x).to(device)\n",
    "\n",
    "yhat = model(test_x.float())\n",
    "yhat = yhat.cpu().detach().numpy()\n",
    "\n",
    "plt.plot(test_y, label='true')\n",
    "plt.plot(yhat, label='preidction')\n",
    "plt.legend()\n",
    "plt.show()"
   ]
  }
 ],
 "metadata": {
  "kernelspec": {
   "display_name": "Python 3",
   "language": "python",
   "name": "python3"
  },
  "language_info": {
   "codemirror_mode": {
    "name": "ipython",
    "version": 3
   },
   "file_extension": ".py",
   "mimetype": "text/x-python",
   "name": "python",
   "nbconvert_exporter": "python",
   "pygments_lexer": "ipython3",
   "version": "3.6.8"
  }
 },
 "nbformat": 4,
 "nbformat_minor": 4
}
