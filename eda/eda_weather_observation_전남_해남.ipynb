{
 "cells": [
  {
   "cell_type": "markdown",
   "metadata": {},
   "source": [
    "# 전남 해남 기상관측치 EDA"
   ]
  },
  {
   "cell_type": "code",
   "execution_count": 1,
   "metadata": {},
   "outputs": [],
   "source": [
    "%load_ext autoreload\n",
    "%autoreload 2"
   ]
  },
  {
   "cell_type": "code",
   "execution_count": 6,
   "metadata": {},
   "outputs": [],
   "source": [
    "import pandas as pd\n",
    "import numpy as np\n",
    "import matplotlib.pyplot as plt\n",
    "import seaborn as sns\n",
    "import os\n",
    "import datetime\n",
    "import math\n",
    "pd.options.mode.chained_assignment = None\n",
    "\n",
    "def warn(*args, **kwargs):\n",
    "    pass\n",
    "import warnings\n",
    "warnings.warn = warn\n",
    "\n",
    "from preprocess.functions.date_inspector import load_files\n",
    "from functions.eda import show_correlation, show_normalized_mutual_information, show_relative_density_plot"
   ]
  },
  {
   "cell_type": "code",
   "execution_count": 4,
   "metadata": {},
   "outputs": [
    {
     "name": "stdout",
     "output_type": "stream",
     "text": [
      "/home/jeon/Desktop/kpx/data/raw/kma\n"
     ]
    }
   ],
   "source": [
    "data_dir = os.path.abspath(os.path.join(os.getcwd(), '..', 'data', 'raw', 'kma'))\n",
    "print(data_dir)"
   ]
  },
  {
   "cell_type": "code",
   "execution_count": 7,
   "metadata": {},
   "outputs": [],
   "source": [
    "observation_list = ['df_kma_obs_Jeollanam-do_Haenam-gun_Haenam-eup_2017.pkl',\n",
    "                   'df_kma_obs_Jeollanam-do_Haenam-gun_Haenam-eup_2018.pkl',\n",
    "                   'df_kma_obs_Jeollanam-do_Haenam-gun_Haenam-eup_2019.pkl']\n",
    "\n",
    "forecast_list = ['df_kma_forecast_Jeollanam-do_Haenam-gun_Hwangsan-myeon_2017.pkl',\n",
    "                'df_kma_forecast_Jeollanam-do_Haenam-gun_Hwangsan-myeon_2018.pkl',\n",
    "                'df_kma_forecast_Jeollanam-do_Haenam-gun_Hwangsan-myeon_2019.pkl']\n",
    "\n",
    "filename_power = 'df_kpx_solar.pkl'\n",
    "\n",
    "df_observation, df_forecast, df_power = load_files(observation_list, forecast_list, filename_power)"
   ]
  },
  {
   "cell_type": "code",
   "execution_count": null,
   "metadata": {},
   "outputs": [],
   "source": [
    "display(df_observation.head())\n",
    "display(df_observation.tail())"
   ]
  },
  {
   "cell_type": "markdown",
   "metadata": {},
   "source": [
    "## Relationship between columns"
   ]
  },
  {
   "cell_type": "code",
   "execution_count": null,
   "metadata": {},
   "outputs": [],
   "source": [
    "df = df_observation.copy()\n",
    "df['month'] = df['datetime'].dt.month\n",
    "df['day'] = df['datetime'].dt.day\n",
    "df['hour'] = df['datetime'].dt.hour\n",
    "df['dayofyear'] = df['datetime'].dt.dayofyear\n",
    "df = df.drop(['datetime', 'date', 'location'], axis=1)\n",
    "\n",
    "df = df.rename(columns={'기온(°C)':'Celsius(°C)',\n",
    "                       '강수량(mm)':'Rainfall(mm)',\n",
    "                       '풍속(m/s)':'Wind Speed(m/s)',\n",
    "                       '풍향(16방위)':'Wind Direction(16)',\n",
    "                       '습도(%)':'Humidity(%)',\n",
    "                       '일사(MJ/m2)':'Solar Radiation(MJ/m^2)',\n",
    "                       '적설(cm)':'Snowfall(cm)',\n",
    "                       '전운량(10분위)':'Cloud'})\n",
    "\n",
    "display(df.head())\n",
    "display(df.tail())"
   ]
  },
  {
   "cell_type": "code",
   "execution_count": null,
   "metadata": {},
   "outputs": [],
   "source": [
    "def merge_obs_power(df_obs, df_power) :\n",
    "    df_obs['datetime'] = pd.to_datetime(df_obs['datetime'])\n",
    "    df_obs['date'] = pd.to_datetime(df_obs['date'])\n",
    "    \n",
    "    df_power['month'] = df_power['datetime'].dt.month\n",
    "    df_power['day'] = df_power['datetime'].dt.day\n",
    "    df_power['hour'] = df_power['datetime'].dt.hour\n",
    "    df_power['dayofyear'] = df_power['datetime'].dt.dayofyear\n",
    "    df_power = df_power.drop(['일사량(MJ/m^2)'], axis=1)\n",
    "    \n",
    "    df_merged = pd.merge(df_observation.drop(['location'], axis=1), df_power.drop(['location'], axis=1), how='outer', on=['datetime', 'date'])\n",
    "    df_merged = df_merged[df_merged['발전량(kW)'].notnull()]\n",
    "    df_merged = df_merged.drop(['datetime', 'date'], axis=1)\n",
    "    df_merged['발전량(kW)'] = df_merged['발전량(kW)'].astype('float64')\n",
    "    df_merged = df_merged.rename(columns={'기온(°C)':'Celsius(°C)',\n",
    "                           '강수량(mm)':'Rainfall(mm)',\n",
    "                           '풍속(m/s)':'Wind Speed(m/s)',\n",
    "                           '풍향(16방위)':'Wind Direction(16)',\n",
    "                           '습도(%)':'Humidity(%)',\n",
    "                        '일사(MJ/m2)' : 'Solar Radiation(MJ/m^2)',\n",
    "                           '적설(cm)':'Snowfall(cm)',\n",
    "                           '전운량(10분위)':'Cloud',\n",
    "                            '발전량(kW)':'Power Generation(kW)'})\n",
    "    \n",
    "    \n",
    "    # ???\n",
    "    df_merged = df_merged[df_merged['Rainfall(mm)'].notnull()]\n",
    "    return df_merged"
   ]
  },
  {
   "cell_type": "code",
   "execution_count": null,
   "metadata": {},
   "outputs": [],
   "source": [
    "df_merged = merge_obs_power(df_observation, df_power)\n",
    "display(df_merged.tail())\n",
    "display(df_merged.head())\n",
    "df_merged.info()"
   ]
  },
  {
   "cell_type": "markdown",
   "metadata": {},
   "source": [
    "## Correlation"
   ]
  },
  {
   "cell_type": "code",
   "execution_count": null,
   "metadata": {},
   "outputs": [],
   "source": [
    "show_correlation(df_merged)"
   ]
  },
  {
   "cell_type": "markdown",
   "metadata": {},
   "source": [
    "## Normalized Mutual Information"
   ]
  },
  {
   "cell_type": "code",
   "execution_count": null,
   "metadata": {},
   "outputs": [],
   "source": [
    "show_normalized_mutual_information(df_merged)"
   ]
  },
  {
   "cell_type": "markdown",
   "metadata": {},
   "source": [
    "## Distribution plot of each column"
   ]
  },
  {
   "cell_type": "code",
   "execution_count": null,
   "metadata": {},
   "outputs": [],
   "source": [
    "for idx, column in enumerate(df_merged.columns) :\n",
    "    if idx%3 == 0:\n",
    "        plt.figure(figsize=(15, 3))\n",
    "    plt.subplot(1, 3, (idx%3)+1)\n",
    "    plt.title(column)\n",
    "    try : \n",
    "        sns.distplot(df_merged[column].interpolate(method='linear')) # due to few NA existing\n",
    "    except Exception as e :\n",
    "        print(e)\n",
    "    if idx%3 == 2 :\n",
    "        plt.show()"
   ]
  },
  {
   "cell_type": "markdown",
   "metadata": {},
   "source": [
    "## Power Generation versus each column (Scatterplot)"
   ]
  },
  {
   "cell_type": "code",
   "execution_count": null,
   "metadata": {},
   "outputs": [],
   "source": [
    "for idx, column in enumerate(df_merged.columns) :\n",
    "    if idx%3 == 0:\n",
    "        plt.figure(figsize=(15, 3))\n",
    "    plt.subplot(1, 3, (idx%3)+1)\n",
    "    plt.title(column)\n",
    "    sns.scatterplot(df_merged[column].interpolate(method='linear'), df_merged['Power Generation(kW)'], s=10, alpha=0.3)\n",
    "    if idx%3 == 2 :\n",
    "        plt.show()"
   ]
  },
  {
   "cell_type": "markdown",
   "metadata": {},
   "source": [
    "## Power Generation versus each column (Relative Density Plot)"
   ]
  },
  {
   "cell_type": "code",
   "execution_count": null,
   "metadata": {},
   "outputs": [],
   "source": [
    "target = 'Power Generation(kW)'\n",
    "show_relative_density_plot(df_merged, target)"
   ]
  }
 ],
 "metadata": {
  "kernelspec": {
   "display_name": "Python 3",
   "language": "python",
   "name": "python3"
  },
  "language_info": {
   "codemirror_mode": {
    "name": "ipython",
    "version": 3
   },
   "file_extension": ".py",
   "mimetype": "text/x-python",
   "name": "python",
   "nbconvert_exporter": "python",
   "pygments_lexer": "ipython3",
   "version": "3.6.8"
  }
 },
 "nbformat": 4,
 "nbformat_minor": 4
}
