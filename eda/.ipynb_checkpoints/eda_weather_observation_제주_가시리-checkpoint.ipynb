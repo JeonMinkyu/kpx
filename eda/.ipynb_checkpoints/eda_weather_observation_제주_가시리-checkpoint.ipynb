{
 "cells": [
  {
   "cell_type": "markdown",
   "metadata": {},
   "source": [
    "# 제주 가시리 기상관측치 EDA"
   ]
  },
  {
   "cell_type": "code",
   "execution_count": 1,
   "metadata": {},
   "outputs": [],
   "source": [
    "%load_ext autoreload\n",
    "%autoreload 2"
   ]
  },
  {
   "cell_type": "code",
   "execution_count": null,
   "metadata": {},
   "outputs": [],
   "source": [
    "import pandas as pd\n",
    "import numpy as np\n",
    "import matplotlib.pyplot as plt\n",
    "import seaborn as sns\n",
    "import os\n",
    "import datetime\n",
    "import math\n",
    "pd.options.mode.chained_assignment = None\n",
    "\n",
    "def warn(*args, **kwargs):\n",
    "    pass\n",
    "import warnings\n",
    "warnings.warn = warn\n",
    "\n",
    "from preprocess.functions.date_inspector import load_files\n",
    "from functions.eda import show_correlation, show_normalized_mutual_information, show_relative_density_plot, relative_density_plot"
   ]
  },
  {
   "cell_type": "code",
   "execution_count": null,
   "metadata": {},
   "outputs": [],
   "source": [
    "data_dir = os.path.abspath(os.path.join(os.getcwd(), '..', 'data', 'raw', 'kma'))\n",
    "print(data_dir)"
   ]
  },
  {
   "cell_type": "markdown",
   "metadata": {},
   "source": [
    "# make data"
   ]
  },
  {
   "cell_type": "markdown",
   "metadata": {},
   "source": [
    "#### df_per_hour"
   ]
  },
  {
   "cell_type": "code",
   "execution_count": null,
   "metadata": {},
   "outputs": [],
   "source": [
    "#df_per_hour\n",
    "def merge_obs_power_hour(df_obs, df_power) :\n",
    "    df_obs['datetime'] = pd.to_datetime(df_obs['datetime'])\n",
    "    df_obs['date'] = pd.to_datetime(df_obs['date'])\n",
    "    \n",
    "    df_power['year'] = df_power['datetime'].dt.year\n",
    "    df_power['month'] = df_power['datetime'].dt.month\n",
    "    df_power['day'] = df_power['datetime'].dt.day\n",
    "    df_power['hour'] = df_power['datetime'].dt.hour\n",
    "    df_power['dayofyear'] = df_power['datetime'].dt.dayofyear\n",
    "    df_power = df_power.drop(['풍속(m/s)', '풍향(16방위)'], axis=1)\n",
    "    \n",
    "    df_merged = pd.merge(df_obs, df_power.drop(['location'], axis=1), how='inner', on=['datetime', 'date'])\n",
    "    df_merged = df_merged[df_merged['발전량(kW)'].notnull()]\n",
    "    df_merged = df_merged.drop(['datetime', 'date'], axis=1)\n",
    "    df_merged['발전량(kW)'] = df_merged['발전량(kW)'].astype('float64')\n",
    "    df_merged = df_merged.rename(columns={'기온(°C)':'Celsius(°C)',\n",
    "                           '강수량(mm)':'Rainfall(mm)',\n",
    "                           '풍속(m/s)':'Wind Speed(m/s)',\n",
    "                           '풍향(16방위)':'Wind Direction(16)',\n",
    "                           '습도(%)':'Humidity(%)',\n",
    "                        '일사(MJ/m2)' : 'Solar Radiation(MJ/m^2)',\n",
    "                           '적설(cm)':'Snowfall(cm)',\n",
    "                           '전운량(10분위)':'Cloud',\n",
    "                            '증기압(hPa)':'Vapor Pressure(hPa)',\n",
    "                            '해면기압(hPa)':'Sea surface pressure(hPa)',\n",
    "                            '현지기압(hPa)':'Local Pressure(hPa)',\n",
    "                            '발전량(kW)':'Power Generation(kW)'})\n",
    "    \n",
    "    \n",
    "    # ???\n",
    "    df_merged = df_merged[df_merged['Rainfall(mm)'].notnull()]\n",
    "    df_merged = df_merged.reset_index()\n",
    "    df_merged = df_merged.drop(['index'],axis=1)\n",
    "    return df_merged"
   ]
  },
  {
   "cell_type": "markdown",
   "metadata": {},
   "source": [
    "#### df_per_day"
   ]
  },
  {
   "cell_type": "code",
   "execution_count": null,
   "metadata": {},
   "outputs": [],
   "source": [
    "#df_per_day\n",
    "def merge_obs_power_day(df_obs, df_power) :\n",
    "    \n",
    "    df_power['year'] = df_power['date'].dt.year\n",
    "    df_power['month'] = df_power['date'].dt.month\n",
    "    df_power['day'] = df_power['date'].dt.day\n",
    "    df_power['hour'] = df_power['date'].dt.hour\n",
    "    df_power['dayofyear'] = df_power['date'].dt.dayofyear\n",
    "    df_power = df_power.drop(['풍속(m/s)', '풍향(16방위)'], axis=1)\n",
    "    \n",
    "    df_merged = pd.merge(df_obs, df_power, how='inner', on=['date'])\n",
    "    print('df_merged:',df_merged.head())\n",
    "    df_merged = df_merged[df_merged['발전량(kW)'].notnull()]\n",
    "    df_merged = df_merged.drop(['datetime', 'date'], axis=1)\n",
    "    df_merged['발전량(kW)'] = df_merged['발전량(kW)'].astype('float64')\n",
    "    df_merged = df_merged.rename(columns={'기온(°C)':'Celsius(°C)',\n",
    "                           '강수량(mm)':'Rainfall(mm)',\n",
    "                           '풍속(m/s)':'Wind Speed(m/s)',\n",
    "                           '풍향(16방위)':'Wind Direction(16)',\n",
    "                           '습도(%)':'Humidity(%)',\n",
    "                        '일사(MJ/m2)' : 'Solar Radiation(MJ/m^2)',\n",
    "                           '적설(cm)':'Snowfall(cm)',\n",
    "                           '전운량(10분위)':'Cloud',\n",
    "                            '증기압(hPa)':'Vapor Pressure(hPa)',\n",
    "                            '해면기압(hPa)':'Sea surface pressure(hPa)',\n",
    "                            '현지기압(hPa)':'Local Pressure(hPa)',\n",
    "                            '발전량(kW)':'Power Generation(kW)'})\n",
    "    \n",
    "    \n",
    "    # ???\n",
    "    df_merged = df_merged[df_merged['Rainfall(mm)'].notnull()]\n",
    "    df_merged = df_merged.reset_index()\n",
    "    df_merged = df_merged.drop(['index'],axis=1)\n",
    "    return df_merged"
   ]
  },
  {
   "cell_type": "markdown",
   "metadata": {},
   "source": [
    "#### df_kpx"
   ]
  },
  {
   "cell_type": "code",
   "execution_count": null,
   "metadata": {},
   "outputs": [],
   "source": [
    "#for kpx\n",
    "def merge_obs_power_kpx(df_obs, df_power) :\n",
    "    df_obs['datetime'] = pd.to_datetime(df_obs['datetime'])\n",
    "    df_obs['date'] = pd.to_datetime(df_obs['date'])\n",
    "    \n",
    "    df_power['month'] = df_power['datetime'].dt.month\n",
    "    df_power['day'] = df_power['datetime'].dt.day\n",
    "    df_power['hour'] = df_power['datetime'].dt.hour\n",
    "    df_power['dayofyear'] = df_power['datetime'].dt.dayofyear\n",
    "    df_power = df_power.drop(['풍속(m/s)', '풍향(16방위)'], axis=1)\n",
    "    #df_power = df_power.drop(['일사(MJ/m2)'], axis=1)\n",
    "\n",
    "    df_merged = pd.merge(df_observation.drop(['location'],axis=1), df_power.drop(['location'],axis=1), how='inner', on=['datetime', 'date'])\n",
    "    df_merged = df_merged[df_merged['발전량(kW)'].notnull()]\n",
    "    #df_merged = df_merged.drop(['datetime', 'date'], axis=1)\n",
    "    df_merged['발전량(kW)'] = df_merged['발전량(kW)'].astype('float64')\n",
    "\n",
    "    df_merged = df_merged.rename(columns={'기온(°C)':'Celsius(°C)',\n",
    "                           '강수량(mm)':'Rainfall(mm)',\n",
    "                           '풍속(m/s)':'Wind Speed(m/s)',\n",
    "                           '풍향(16방위)':'Wind Direction(16)',\n",
    "                           '습도(%)':'Humidity(%)',\n",
    "                        '일사(MJ/m2)' : 'Solar Radiation(MJ/m^2)',\n",
    "                           '적설(cm)':'Snowfall(cm)',\n",
    "                           '전운량(10분위)':'Cloud',\n",
    "                            '발전량(kW)':'Power Generation(kW)'})\n",
    "\n",
    "    # ???\n",
    "    df_merged = df_merged[df_merged['Rainfall(mm)'].notnull()]\n",
    "    return df_merged"
   ]
  },
  {
   "cell_type": "markdown",
   "metadata": {},
   "source": [
    "## Transfer per minute to per hour \n",
    "1분 단위 데이터를 1시간 간격으로 평균"
   ]
  },
  {
   "cell_type": "code",
   "execution_count": null,
   "metadata": {},
   "outputs": [],
   "source": [
    "#기압 column들 추가\n",
    "observation_list = ['df_kma_obs_Jeju-do_Seogwipo-si_Pyoseon-myeon_per_minute_2017.pkl',\n",
    "                   'df_kma_obs_Jeju-do_Seogwipo-si_Pyoseon-myeon_per_minute_2018.pkl',\n",
    "                   'df_kma_obs_Jeju-do_Seogwipo-si_Pyoseon-myeon_per_minute_2019.pkl']\n",
    "\n",
    "forecast_list = ['df_kma_forecast_Jeju-do_Seogwipo-si_Pyoseon-myeon_2017.pkl',\n",
    "                'df_kma_forecast_Jeju-do_Seogwipo-si_Pyoseon-myeon_2018.pkl',\n",
    "                'df_kma_forecast_Jeju-do_Seogwipo-si_Pyoseon-myeon_2019.pkl']\n",
    "\n",
    "filename_power = 'df_kpx_wind.pkl'\n",
    "\n",
    "df_observation, df_forecast, df_power = load_files(observation_list, forecast_list, filename_power)"
   ]
  },
  {
   "cell_type": "code",
   "execution_count": null,
   "metadata": {},
   "outputs": [],
   "source": [
    "df_observation['date'] = pd.to_datetime(df_observation['date'])"
   ]
  },
  {
   "cell_type": "code",
   "execution_count": null,
   "metadata": {},
   "outputs": [],
   "source": [
    "def make_df_hour_data(df):\n",
    "    df['samehour'] = df['datetime']\n",
    "    df['samehour'] = df['samehour'].apply(lambda x : x.replace(minute=0).replace(second=0))\n",
    "    \n",
    "    df_per_hour = df_observation[['기온(°C)','강수량(mm)','풍향(16방위)','풍속(m/s)','현지기압(hPa)','해면기압(hPa)','습도(%)']].groupby(df['samehour']).mean()\n",
    "    \n",
    "    df_per_hour['datetime'] = df_per_hour.index\n",
    "    df_per_hour = df_per_hour.reset_index().drop(['samehour'],axis=1)\n",
    "    df_per_hour['date'] = df_per_hour['datetime'].dt.date\n",
    "    \n",
    "    pd.to_datetime(df_per_hour['date'])\n",
    "    \n",
    "    df_per_hour['풍향(16방위)'] = df_per_hour['풍향(16방위)'].round()\n",
    "    df_per_hour['기온(°C)'] = df_per_hour['기온(°C)'].round(1)\n",
    "    df_per_hour['강수량(mm)'] = df_per_hour['강수량(mm)'].round(1)\n",
    "    df_per_hour['풍속(m/s)'] = df_per_hour['풍속(m/s)'].round(1)\n",
    "    df_per_hour['현지기압(hPa)'] = df_per_hour['현지기압(hPa)'].round(1)\n",
    "    df_per_hour['해면기압(hPa)'] = df_per_hour['해면기압(hPa)'].round(1)\n",
    "    df_per_hour['습도(%)'] = df_per_hour['습도(%)'].round()\n",
    "    \n",
    "    df_per_hour['date'] = pd.to_datetime(df_per_hour['date'])\n",
    "    \n",
    "    return df_per_hour"
   ]
  },
  {
   "cell_type": "code",
   "execution_count": null,
   "metadata": {},
   "outputs": [],
   "source": [
    "df = df_observation.copy()\n",
    "df_per_hour = make_df_hour_data(df)\n",
    "\n",
    "df_per_hour['date'] = pd.to_datetime(df_per_hour['date'])\n",
    "\n",
    "\n",
    "df = df_observation.copy()\n",
    "df_per_hour = make_df_hour_data(df)\n",
    "\n",
    "df_per_hour['date'] = pd.to_datetime(df_per_hour['date'])"
   ]
  },
  {
   "cell_type": "code",
   "execution_count": null,
   "metadata": {},
   "outputs": [],
   "source": [
    "df = df_per_hour.copy()"
   ]
  },
  {
   "cell_type": "markdown",
   "metadata": {},
   "source": [
    "## Transfer Per minute to per Day  \n",
    "per minute을 평균해서 per hour만들고 그것을 평균해서 per Day로  \n",
    "데이터 개수 : 730"
   ]
  },
  {
   "cell_type": "code",
   "execution_count": null,
   "metadata": {},
   "outputs": [],
   "source": [
    "def make_per_day_data(df):\n",
    "    df = df.groupby(df['date']).mean()\n",
    "    df = df.reset_index()\n",
    "    df_per_day = df\n",
    "    \n",
    "    df_per_day['풍향(16방위)'] = df_per_day['풍향(16방위)'].round()\n",
    "    df_per_day['기온(°C)'] = df_per_day['기온(°C)'].round(1)\n",
    "    df_per_day['강수량(mm)'] = df_per_day['강수량(mm)'].round(1)\n",
    "    df_per_day['풍속(m/s)'] = df_per_day['풍속(m/s)'].round(1)\n",
    "    df_per_day['현지기압(hPa)'] = df_per_day['현지기압(hPa)'].round(1)\n",
    "    df_per_day['해면기압(hPa)'] = df_per_day['해면기압(hPa)'].round(1)\n",
    "    df_per_day['습도(%)'] = df_per_day['습도(%)'].round()\n",
    "    return df_per_day"
   ]
  },
  {
   "cell_type": "code",
   "execution_count": null,
   "metadata": {},
   "outputs": [],
   "source": [
    "df_per_day = make_per_day_data(df)"
   ]
  },
  {
   "cell_type": "markdown",
   "metadata": {},
   "source": [
    "# Per 8 hour (0-7, 1-8)"
   ]
  },
  {
   "cell_type": "code",
   "execution_count": null,
   "metadata": {},
   "outputs": [],
   "source": [
    "df_new = df.copy()"
   ]
  },
  {
   "cell_type": "code",
   "execution_count": null,
   "metadata": {},
   "outputs": [],
   "source": [
    "def make_per_8_data(df):\n",
    "    new = df_new[0:8].mean()\n",
    "    new['hour'] = df_new.iloc[7]['hour']\n",
    "    new['발전량(kW)'] = df_new.iloc[7]['발전량(kW)']\n",
    "    new = pd.DataFrame(new).T\n",
    "    for i in range(1,len(df_new)-7):\n",
    "        a = df_new[i:i+8].mean()\n",
    "        a['hour'] = df_new.iloc[i+7]['hour']\n",
    "        a['발전량(kW)'] = df_new.iloc[i+7]['발전량(kW)']\n",
    "        new_a = pd.DataFrame(a).T\n",
    "        new = pd.concat([new,new_a], ignore_index=True)\n",
    "    \n",
    "    df_per_day = new.copy()\n",
    "    df_per_day['풍향(16방위)'] = df_per_day['풍향(16방위)'].round()\n",
    "    df_per_day['기온(°C)'] = df_per_day['기온(°C)'].round(1)\n",
    "    df_per_day['강수량(mm)'] = df_per_day['강수량(mm)'].round(1)\n",
    "    df_per_day['풍속(m/s)'] = df_per_day['풍속(m/s)'].round(1)\n",
    "    df_per_day['현지기압(hPa)'] = df_per_day['현지기압(hPa)'].round(1)\n",
    "    df_per_day['해면기압(hPa)'] = df_per_day['해면기압(hPa)'].round(1)\n",
    "    df_per_day['습도(%)'] = df_per_day['습도(%)'].round()\n",
    "    return df_per_day"
   ]
  },
  {
   "cell_type": "code",
   "execution_count": null,
   "metadata": {},
   "outputs": [],
   "source": [
    "df_per_minute_to_per_8hour = make_per_8_data(df_new)"
   ]
  },
  {
   "cell_type": "markdown",
   "metadata": {},
   "source": [
    "# Per Day\n",
    "## 0-0, 1-1, 2-2 ,..."
   ]
  },
  {
   "cell_type": "code",
   "execution_count": null,
   "metadata": {},
   "outputs": [],
   "source": [
    "def kor_to_eng(df):\n",
    "    df['month'] = df['datetime'].dt.month\n",
    "    df['day'] = df['datetime'].dt.day\n",
    "    df['hour'] = df['datetime'].dt.hour\n",
    "    df['dayofyear'] = df['datetime'].dt.dayofyear\n",
    "    #df = df.drop(['datetime', 'date'], axis=1)\n",
    "\n",
    "    df = df.rename(columns={'기온(°C)':'Celsius(°C)',\n",
    "                           '강수량(mm)':'Rainfall(mm)',\n",
    "                           '풍속(m/s)':'Wind Speed(m/s)',\n",
    "                           '풍향(16방위)':'Wind Direction(16)',\n",
    "                           '습도(%)':'Humidity(%)',\n",
    "                           '일사(MJ/m2)':'Solar Radiation(MJ/m^2)',\n",
    "                           '적설(cm)':'Snowfall(cm)',\n",
    "                           '전운량(10분위)':'Cloud',\n",
    "                           '현지기압(hPa)':'Local pressure(hPa)',\n",
    "                           '해면기압(hPa)':'Sea surface pressure(hPa)'})\n",
    "    return df"
   ]
  },
  {
   "cell_type": "markdown",
   "metadata": {},
   "source": [
    "## Make per minute to per hour\n",
    "# Per hour data (kpx에서 받은 데이터)"
   ]
  },
  {
   "cell_type": "code",
   "execution_count": null,
   "metadata": {},
   "outputs": [],
   "source": [
    "#기압 column들 추가\n",
    "observation_list = ['df_kma_obs_Jeju-do_Seogwipo-si_Pyoseon-myeon_2017.pkl',\n",
    "                   'df_kma_obs_Jeju-do_Seogwipo-si_Pyoseon-myeon_2018.pkl',\n",
    "                   'df_kma_obs_Jeju-do_Seogwipo-si_Pyoseon-myeon_2019.pkl']\n",
    "\n",
    "forecast_list = ['df_kma_forecast_Jeju-do_Seogwipo-si_Pyoseon-myeon_2017.pkl',\n",
    "                'df_kma_forecast_Jeju-do_Seogwipo-si_Pyoseon-myeon_2018.pkl',\n",
    "                'df_kma_forecast_Jeju-do_Seogwipo-si_Pyoseon-myeon_2019.pkl']\n",
    "\n",
    "filename_power = 'df_kpx_wind.pkl'\n",
    "\n",
    "df_observation, df_forecast, df_power = load_files(observation_list, forecast_list, filename_power)"
   ]
  },
  {
   "cell_type": "code",
   "execution_count": null,
   "metadata": {},
   "outputs": [],
   "source": [
    "df_merged_kpx_per_hour = merge_obs_power_kpx(df_observation, df_power)"
   ]
  },
  {
   "cell_type": "markdown",
   "metadata": {},
   "source": [
    "## Distribution plot of each column"
   ]
  },
  {
   "cell_type": "code",
   "execution_count": null,
   "metadata": {},
   "outputs": [],
   "source": [
    "df_merged_kpx_per_hour_2 = df_merged_kpx_per_hour.drop(['datetime','date','Solar Radiation(MJ/m^2)','Snowfall(cm)','Cloud'],axis=1)"
   ]
  },
  {
   "cell_type": "code",
   "execution_count": null,
   "metadata": {},
   "outputs": [],
   "source": [
    "df_merged_kpx_per_hour.head()"
   ]
  },
  {
   "cell_type": "markdown",
   "metadata": {},
   "source": [
    "# show normalized mutual information"
   ]
  },
  {
   "cell_type": "code",
   "execution_count": null,
   "metadata": {},
   "outputs": [],
   "source": [
    "show_normalized_mutual_information(df_merged_kpx_per_hour_2)"
   ]
  },
  {
   "cell_type": "markdown",
   "metadata": {},
   "source": [
    "# distribution plot"
   ]
  },
  {
   "cell_type": "code",
   "execution_count": null,
   "metadata": {},
   "outputs": [],
   "source": [
    "## Distribution plot of each column\n",
    "for idx, column in enumerate(df_merged_kpx_per_hour_2.columns) :\n",
    "    if idx%3 == 0:\n",
    "        plt.figure(figsize=(15, 3))\n",
    "    plt.subplot(1, 3, (idx%3)+1)\n",
    "    plt.title(column)\n",
    "    try : \n",
    "        sns.distplot(df_merged[column].interpolate(method='linear')) # due to few NA existing\n",
    "    except Exception as e :\n",
    "        print(e)\n",
    "    if idx%3 == 2 :\n",
    "        plt.show()"
   ]
  },
  {
   "cell_type": "markdown",
   "metadata": {},
   "source": [
    "## Power Generation versus each column (Scatterplot)"
   ]
  },
  {
   "cell_type": "code",
   "execution_count": null,
   "metadata": {},
   "outputs": [],
   "source": [
    "for idx, column in enumerate(df_merged_kpx_per_hour_2.columns) :\n",
    "    if idx%3 == 0:\n",
    "        plt.figure(figsize=(15, 3))\n",
    "    plt.subplot(1, 3, (idx%3)+1)\n",
    "    plt.title(column)\n",
    "    sns.scatterplot(df_merged[column].interpolate(method='linear'), df_merged['Power Generation(kW)'], s=10, alpha=0.3)\n",
    "    if idx%3 == 2 :\n",
    "        plt.show()"
   ]
  },
  {
   "cell_type": "markdown",
   "metadata": {},
   "source": [
    "## Wind Speed versus each column (Scatterplot)"
   ]
  },
  {
   "cell_type": "code",
   "execution_count": null,
   "metadata": {},
   "outputs": [],
   "source": [
    "for idx, column in enumerate(df_merged_kpx_per_hour_2.columns) :\n",
    "    if idx%3 == 0:\n",
    "        plt.figure(figsize=(15, 3))\n",
    "    plt.subplot(1, 3, (idx%3)+1)\n",
    "    plt.title(column)\n",
    "    sns.scatterplot(df_merged[column].interpolate(method='linear'), df_merged['Wind Speed(m/s)'], s=10, alpha=0.3)\n",
    "    if idx%3 == 2 :\n",
    "        plt.show()"
   ]
  },
  {
   "cell_type": "markdown",
   "metadata": {},
   "source": [
    "## Power Generation versus each column (Relative Density Plot)"
   ]
  },
  {
   "cell_type": "code",
   "execution_count": null,
   "metadata": {},
   "outputs": [],
   "source": [
    "target = 'Power Generation(kW)'\n",
    "show_relative_density_plot(df_merged_kpx_per_hour_2, target)"
   ]
  },
  {
   "cell_type": "markdown",
   "metadata": {},
   "source": [
    "# Add Feature engineering"
   ]
  },
  {
   "cell_type": "code",
   "execution_count": null,
   "metadata": {},
   "outputs": [],
   "source": [
    "import math\n",
    "\n",
    "def wind_cos_sin(df):\n",
    "    wind_dir = df['Wind Direction(16)']\n",
    "    wind_dir_deg = np.deg2rad(wind_dir)\n",
    "\n",
    "    wind_dir_cos = wind_dir_deg.apply(math.cos)\n",
    "    wind_dir_sin = wind_dir_deg.apply(math.sin)\n",
    "\n",
    "    df['wind_dir_cos'] = wind_dir_cos\n",
    "    df['wind_dir_sin'] = wind_dir_sin\n",
    "    \n",
    "    return df\n",
    "\n",
    "def new_wind_speed_direction(df,phi):\n",
    "    theta = df['Wind Direction(16)']\n",
    "    wind_speed = df['Wind Speed(m/s)']\n",
    "    deg = theta - phi\n",
    "\n",
    "    cos_deg = np.deg2rad(deg).apply(math.cos)\n",
    "\n",
    "    new_wind_speed = wind_speed*cos_deg\n",
    "\n",
    "    df['new_wind_speed'] = new_wind_speed\n",
    "    \n",
    "    return df"
   ]
  },
  {
   "cell_type": "code",
   "execution_count": null,
   "metadata": {},
   "outputs": [],
   "source": [
    "columns = ['Wind Direction(16)','Wind Speed(m/s)','Celsius(°C)','Rainfall(mm)','Humidity(%)','Snowfall(cm)','Cloud','new_wind_speed','wind_dir_cos','wind_dir_sin']\n",
    "\n",
    "def fe_add_previous_n_hours_mean(df_original, how_long, columns) :\n",
    "    df = df_original.copy()\n",
    "\n",
    "    for column in columns :\n",
    "        df[column+'(%d hours mean)'%how_long] = 0\n",
    "        for idx in range(how_long) :\n",
    "           #print(idx)\n",
    "            df[column+'(%d hours mean)'%how_long] += df[column].shift(idx+1)\n",
    "        df[column+'(%d hours mean)'%how_long] /= how_long\n",
    "\n",
    "\n",
    "    df = df[how_long:]\n",
    "    \n",
    "    df['Wind Direction(16)'+'(%d hours mean)'%how_long] = df['Wind Direction(16)'+'(%d hours mean)'%how_long].astype(float).round()\n",
    "    df['Celsius(°C)'+'(%d hours mean)'%how_long] = df['Celsius(°C)'+'(%d hours mean)'%how_long].astype(float).round(1)\n",
    "    df['Rainfall(mm)'+'(%d hours mean)'%how_long] = df['Rainfall(mm)'+'(%d hours mean)'%how_long].astype(float).round(1)\n",
    "    df['Wind Speed(m/s)'+'(%d hours mean)'%how_long] = df['Wind Speed(m/s)'+'(%d hours mean)'%how_long].astype(float).round(1)\n",
    "    df['Humidity(%)'+'(%d hours mean)'%how_long] = df['Humidity(%)'+'(%d hours mean)'%how_long].astype(float).round()\n",
    "    #df['Snowfall(cm)'+'(%d hours mean)'%how_long] = df['Snowfall(cm)'+'(%d hours mean)'%how_long].astype(float).round()\n",
    "    df['Cloud'+'(%d hours mean)'%how_long] = df['Cloud'+'(%d hours mean)'%how_long].astype(float).round()\n",
    "    return df"
   ]
  },
  {
   "cell_type": "markdown",
   "metadata": {},
   "source": [
    "#### 8시간 평균 낸 것에 대해 풍속 인코딩"
   ]
  },
  {
   "cell_type": "code",
   "execution_count": null,
   "metadata": {},
   "outputs": [],
   "source": [
    "df_per_8hour_kpx_pre_mean = fe_add_previous_n_hours_mean(df_merged_kpx_per_hour, 8, columns)"
   ]
  },
  {
   "cell_type": "code",
   "execution_count": null,
   "metadata": {},
   "outputs": [],
   "source": [
    "#add cos, sin wind_direction \n",
    "#우선 시간별로 인코딩을 함\n",
    "df_per_8hour_kpx_2 = wind_cos_sin(df_per_8hour_kpx_pre_mean)\n",
    "df_per_8hour_kpx_2['Wind Direction(16)(8 hours mean)'].value_counts()\n",
    "df_per_8hour_kpx_2 = new_wind_speed_direction(df_per_8hour_kpx_2,50)\n",
    "\n",
    "#8시간 간격으로 평균\n",
    "df_per_8hour_kpx = fe_add_previous_n_hours_mean(df_per_8hour_kpx_2,8,columns)\n",
    "df_per_8hour_kpx = df_per_8hour_kpx.reset_index()\n",
    "df_per_8hour_kpx = df_per_8hour_kpx.drop(['index'],axis=1)"
   ]
  },
  {
   "cell_type": "code",
   "execution_count": null,
   "metadata": {},
   "outputs": [],
   "source": [
    "df_per_8hour_kpx_show = df_per_8hour_kpx.drop(['datetime','date','Solar Radiation(MJ/m^2)'],axis=1)"
   ]
  },
  {
   "cell_type": "code",
   "execution_count": null,
   "metadata": {},
   "outputs": [],
   "source": [
    "show_normalized_mutual_information(df_per_8hour_kpx_show)"
   ]
  },
  {
   "cell_type": "markdown",
   "metadata": {},
   "source": [
    "#### 풍속 인코딩한 것을 8시간 간격으로 평균"
   ]
  },
  {
   "cell_type": "code",
   "execution_count": null,
   "metadata": {},
   "outputs": [],
   "source": [
    "#add cos, sin wind_direction \n",
    "#우선 시간별로 인코딩을 함\n",
    "df_per_8hour_kpx_2 = wind_cos_sin(df_merged_kpx_per_hour)\n",
    "df_per_8hour_kpx_2['Wind Direction(16)'].value_counts()\n",
    "df_per_8hour_kpx_2 = new_wind_speed_direction(df_per_8hour_kpx_2,50)\n",
    "\n",
    "#8시간 간격으로 평균\n",
    "df_per_8hour_kpx = fe_add_previous_n_hours_mean(df_per_8hour_kpx_2,8,columns)\n",
    "df_per_8hour_kpx = df_per_8hour_kpx.reset_index()\n",
    "df_per_8hour_kpx = df_per_8hour_kpx.drop(['index'],axis=1)\n",
    "\n",
    "drop_col = ['datetime','date','Celsius(°C)', 'Rainfall(mm)', 'Wind Speed(m/s)']\n",
    "\n",
    "df_per_8hour_kpx_2 = df_per_8hour_kpx.drop(drop_col,axis=1)\n",
    "\n",
    "df_per_8hour_kpx_2.columns"
   ]
  },
  {
   "cell_type": "code",
   "execution_count": null,
   "metadata": {},
   "outputs": [],
   "source": [
    "show_normalized_mutual_information(df_per_8hour_kpx_2)"
   ]
  },
  {
   "cell_type": "code",
   "execution_count": null,
   "metadata": {},
   "outputs": [],
   "source": [
    "## Distribution plot of each column\n",
    "for idx, column in enumerate(df_per_8hour_kpx_2.columns) :\n",
    "    if idx%3 == 0:\n",
    "        plt.figure(figsize=(15, 3))\n",
    "    plt.subplot(1, 3, (idx%3)+1)\n",
    "    plt.title(column)\n",
    "    try : \n",
    "        sns.distplot(df_per_8hour_kpx_2[column].interpolate(method='linear')) # due to few NA existing\n",
    "    except Exception as e :\n",
    "        print(e)\n",
    "    if idx%3 == 2 :\n",
    "        plt.show()"
   ]
  },
  {
   "cell_type": "markdown",
   "metadata": {},
   "source": [
    "#### Power Generation versus each column (Relative Density Plot)"
   ]
  },
  {
   "cell_type": "code",
   "execution_count": null,
   "metadata": {},
   "outputs": [],
   "source": [
    "df_per_8hour_kpx_2 = df_per_8hour_kpx_2.drop(['date'],axis=1)"
   ]
  },
  {
   "cell_type": "code",
   "execution_count": null,
   "metadata": {},
   "outputs": [],
   "source": [
    "target = 'Power Generation(kW)'\n",
    "show_relative_density_plot(df_per_8hour_kpx_2, target)"
   ]
  },
  {
   "cell_type": "markdown",
   "metadata": {},
   "source": [
    "# 3시간 단위로 묶기 (kpx)"
   ]
  },
  {
   "cell_type": "code",
   "execution_count": null,
   "metadata": {},
   "outputs": [],
   "source": [
    "df_merged_kpx_per_hour = merge_obs_power_kpx(df_observation, df_power)"
   ]
  },
  {
   "cell_type": "code",
   "execution_count": null,
   "metadata": {},
   "outputs": [],
   "source": [
    "#add cos, sin wind_direction \n",
    "#우선 시간별로 인코딩을 함\n",
    "df_per_3hour_kpx_2 = wind_cos_sin(df_merged_kpx_per_hour)\n",
    "df_per_3hour_kpx_2['Wind Direction(16)'].value_counts()\n",
    "df_per_3hour_kpx_2 = new_wind_speed_direction(df_per_3hour_kpx_2,50)\n",
    "\n",
    "#3시간 간격으로 평균\n",
    "df_per_3hour_kpx = fe_add_previous_n_hours_mean(df_per_3hour_kpx_2,3,columns)\n",
    "df_per_3hour_kpx = df_per_3hour_kpx.reset_index()\n",
    "df_per_3hour_kpx = df_per_3hour_kpx.drop(['index'],axis=1)\n",
    "\n",
    "drop_col = ['datetime','date','Celsius(°C)', 'Rainfall(mm)', 'Wind Speed(m/s)']\n",
    "\n",
    "df_per_3hour_kpx_2 = df_per_3hour_kpx.drop(drop_col,axis=1)\n",
    "\n",
    "df_per_3hour_kpx_2.columns"
   ]
  },
  {
   "cell_type": "code",
   "execution_count": null,
   "metadata": {},
   "outputs": [],
   "source": [
    "show_normalized_mutual_information(df_per_3hour_kpx_2)"
   ]
  },
  {
   "cell_type": "code",
   "execution_count": null,
   "metadata": {},
   "outputs": [],
   "source": [
    "## Distribution plot of each column\n",
    "for idx, column in enumerate(df_per_3hour_kpx_2.columns) :\n",
    "    if idx%3 == 0:\n",
    "        plt.figure(figsize=(15, 3))\n",
    "    plt.subplot(1, 3, (idx%3)+1)\n",
    "    plt.title(column)\n",
    "    try : \n",
    "        sns.distplot(df_per_3hour_kpx_2[column].interpolate(method='linear')) # due to few NA existing\n",
    "    except Exception as e :\n",
    "        print(e)\n",
    "    if idx%3 == 2 :\n",
    "        plt.show()"
   ]
  },
  {
   "cell_type": "code",
   "execution_count": null,
   "metadata": {},
   "outputs": [],
   "source": [
    "target = 'Power Generation(kW)'\n",
    "show_relative_density_plot(df_per_3hour_kpx_2, target)"
   ]
  }
 ],
 "metadata": {
  "kernelspec": {
   "display_name": "Python 3",
   "language": "python",
   "name": "python3"
  },
  "language_info": {
   "codemirror_mode": {
    "name": "ipython",
    "version": 3
   },
   "file_extension": ".py",
   "mimetype": "text/x-python",
   "name": "python",
   "nbconvert_exporter": "python",
   "pygments_lexer": "ipython3",
   "version": "3.6.8"
  }
 },
 "nbformat": 4,
 "nbformat_minor": 4
}
