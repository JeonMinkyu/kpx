{
 "cells": [
  {
   "cell_type": "code",
   "execution_count": 1,
   "metadata": {},
   "outputs": [],
   "source": [
    "%load_ext autoreload\n",
    "%autoreload 2"
   ]
  },
  {
   "cell_type": "code",
   "execution_count": 22,
   "metadata": {},
   "outputs": [],
   "source": [
    "import pandas as pd\n",
    "import numpy as np\n",
    "import matplotlib.pyplot as plt\n",
    "import seaborn as sns\n",
    "import os\n",
    "import datetime\n",
    "import math\n",
    "pd.options.mode.chained_assignment = None\n",
    "\n",
    "def warn(*args, **kwargs):\n",
    "    pass\n",
    "import warnings\n",
    "warnings.warn = warn\n",
    "\n",
    "from preprocess.functions.date_inspector import load_files\n",
    "from functions.feature_engineering import wind_cos_sin, new_wind_speed_direction, make_moving_average_df, load_power_ma_forecast\n",
    "from functions.feature_engineering import load_power_ma_forecast_mean, fe_add_timestep, fe_add_previous_n_hours_mean_kpx, add_time_feature"
   ]
  },
  {
   "cell_type": "code",
   "execution_count": 3,
   "metadata": {},
   "outputs": [],
   "source": [
    "df_final_power = pd.read_pickle(os.path.abspath(os.path.join(os.getcwd(),'..','data','data_to_final','df_kpx_wind_final.pkl')))\n",
    "df_final_forecast_kpx = pd.read_pickle(os.path.abspath(os.path.join(os.getcwd(),'..','data','data_to_final','final_kpx_forecast.pkl')))"
   ]
  },
  {
   "cell_type": "code",
   "execution_count": 4,
   "metadata": {},
   "outputs": [],
   "source": [
    "df_power = df_final_power.drop(['풍속(m/s)','풍향(16방위)'],axis=1).copy()"
   ]
  },
  {
   "cell_type": "code",
   "execution_count": 5,
   "metadata": {},
   "outputs": [],
   "source": [
    "def preprocess_forecast(df_forecast) :\n",
    "    df_forecast['6시간강수량'] = pd.to_numeric(df_forecast['6시간강수량'])\n",
    "\n",
    "    df_forecast['6시간강수량'] /= 2\n",
    "    df_forecast['6시간적설'] /= 2\n",
    "    df_forecast['6시간강수량'] = df_forecast['6시간강수량'].fillna(method='ffill')\n",
    "    df_forecast['6시간적설'] = df_forecast['6시간적설'].fillna(method='ffill')\n",
    "\n",
    "    df_forecast['일최고기온'] = df_forecast['일최고기온'].fillna(method='ffill')\n",
    "    df_forecast['일최저기온'] = df_forecast['일최저기온'].fillna(method='ffill')\n",
    "\n",
    "    return df_forecast"
   ]
  },
  {
   "cell_type": "code",
   "execution_count": 6,
   "metadata": {},
   "outputs": [],
   "source": [
    "def merge_forecast_power_hotfix(df_forecast_original, df_power_original, power) :\n",
    "    df_forecast = df_forecast_original.copy()\n",
    "    df_power = df_power_original.copy()\n",
    "    if power == 'solar' :\n",
    "        df_power = df_power.drop(['date', 'location', '일사량(MJ/m^2)'], axis=1)\n",
    "    if power == 'wind' :\n",
    "#         df_power = df_power.drop(['date', 'location', '풍향(m/s)', '풍속(16방위)'], axis=1)\n",
    "        df_power = df_power.drop(['date', 'location'], axis=1)\n",
    "\n",
    "    # 해당 시간 합치기\n",
    "    df_power_0 = df_power.copy()\n",
    "    df_power_0 = df_power_0.rename(columns={'datetime':'datetime(forecast)', '발전량(kW)':'발전량(kW)+0'})\n",
    "    df_merged = pd.merge(df_forecast, df_power_0, how='inner', on=['datetime(forecast)'])\n",
    "    # +1시간 합치기\n",
    "    df_power_1 = df_power.copy()\n",
    "    df_power_1 = df_power_1.rename(columns={'datetime':'datetime(forecast)', '발전량(kW)':'발전량(kW)+1'})\n",
    "    df_power_1['datetime(forecast)'] -= datetime.timedelta(hours=1)\n",
    "    df_merged = pd.merge(df_merged, df_power_1, how='inner', on='datetime(forecast)')\n",
    "\n",
    "    # +2시간 합치기\n",
    "    df_power_2 = df_power.copy()\n",
    "    df_power_2 = df_power_2.rename(columns={'datetime':'datetime(forecast)', '발전량(kW)':'발전량(kW)+2'})\n",
    "    df_power_2['datetime(forecast)'] -= datetime.timedelta(hours=2)\n",
    "    df_merged = pd.merge(df_merged, df_power_2, how='inner', on='datetime(forecast)')\n",
    "\n",
    "    # datetime obejct로\n",
    "    df_merged['date'] = pd.to_datetime(df_merged['date'])\n",
    "    df_merged['date(forecast)'] = pd.to_datetime(df_merged['date(forecast)'])\n",
    "    #display(df_merged)\n",
    "\n",
    "    # 발전량 nan 제거\n",
    "    df_merged = df_merged[df_merged['발전량(kW)+0'].notnull()]\n",
    "    # outer join하면서 생긴 nan 제거\n",
    "    df_merged = df_merged[df_merged['location'].notnull()]\n",
    "    #df_merged = df_merged[df_merged[‘location’]!=‘NaN’]\n",
    "    #df_merged = df_merged.dropna(thresh=1)\n",
    "\n",
    "\n",
    "    # rename\n",
    "    df_merged = df_merged.rename(columns={'하늘상태':'Weather Condition',\n",
    "                                        '풍속':'Wind Speed(m/s)',\n",
    "                                        '습도':'Humidity(%)',\n",
    "                                        '3시간기온':'Celsius(°C)',\n",
    "                                        '풍향':'Wind Direction(16)',\n",
    "                                        '강수형태':'Rain Condition',\n",
    "                                        '강수확률':'Rainfall Probability',\n",
    "                                        '6시간강수량':'Rainfall',\n",
    "                                        '6시간적설':'Snowfall',\n",
    "                                        '일최고기온':'Celsius(Highest)',\n",
    "                                        '일최저기온':'Celsius(Lowest)',\n",
    "                                        '발전량(kW)+0':'Power Generation(kW)+0',\n",
    "                                        '발전량(kW)+1':'Power Generation(kW)+1',\n",
    "                                        '발전량(kW)+2':'Power Generation(kW)+2'})\n",
    "\n",
    "\n",
    "\n",
    "    #display(df_merged)\n",
    "    return df_merged"
   ]
  },
  {
   "cell_type": "markdown",
   "metadata": {},
   "source": [
    "## data 합치기"
   ]
  },
  {
   "cell_type": "code",
   "execution_count": 23,
   "metadata": {},
   "outputs": [],
   "source": [
    "df_final_forecast = preprocess_forecast(df_final_forecast_kpx)\n",
    "df = merge_forecast_power_hotfix(df_final_forecast, df_power,'wind')"
   ]
  },
  {
   "cell_type": "code",
   "execution_count": 8,
   "metadata": {},
   "outputs": [],
   "source": [
    "df_2 = df.rename(columns={'하늘상태':'Weather Condition',\n",
    "                                        '풍속':'Wind Speed(m/s)',\n",
    "                                        '습도':'Humidity(%)',\n",
    "                                        '3시간기온':'Celsius(°C)',\n",
    "                                        '풍향':'Wind Direction(16)',\n",
    "                                        '강수형태':'Rain Condition',\n",
    "                                        '강수확률':'Rainfall Probability',\n",
    "                                        '6시간강수량':'Rainfall',\n",
    "                                        '6시간적설':'Snowfall',\n",
    "                                        '일최고기온':'Celsius(Highest)',\n",
    "                                        '일최저기온':'Celsius(Lowest)',})"
   ]
  },
  {
   "cell_type": "markdown",
   "metadata": {},
   "source": [
    "## 풍향/풍속 인코딩"
   ]
  },
  {
   "cell_type": "code",
   "execution_count": 9,
   "metadata": {},
   "outputs": [],
   "source": [
    "df = wind_cos_sin(df_2)\n",
    "df = new_wind_speed_direction(df,340)"
   ]
  },
  {
   "cell_type": "markdown",
   "metadata": {},
   "source": [
    "## kpx 발전량 Moving Average"
   ]
  },
  {
   "cell_type": "markdown",
   "metadata": {},
   "source": [
    "각 시간에 전년도 발전량의 moving average , 모든 년도 발전량의 moving average의 평균 변수 추가"
   ]
  },
  {
   "cell_type": "code",
   "execution_count": 10,
   "metadata": {},
   "outputs": [],
   "source": [
    "hours = [12,24,48]\n",
    "df_new_power_2017 = make_moving_average_df(df_power,hours,0)\n",
    "df_new_power_2018 = make_moving_average_df(df_power,hours,0)"
   ]
  },
  {
   "cell_type": "markdown",
   "metadata": {},
   "source": [
    "2017 7/1~2018 6/30  \n",
    "1. 1년치 데이터에 대해 각각 시간에 2017, 2018년각각 발전량의 moving average \n",
    "2. 2017,2018년의 평균 moving average \n",
    "3. 년도는 다르고 월,일,시간이 같은 데이터를 찾아서 넣으려 함"
   ]
  },
  {
   "cell_type": "markdown",
   "metadata": {},
   "source": [
    "#### 발전량 데이터 만들기"
   ]
  },
  {
   "cell_type": "code",
   "execution_count": 11,
   "metadata": {},
   "outputs": [],
   "source": [
    "df_new_power_2017 = add_time_feature(df_new_power_2017)\n",
    "df_new_power_2018 = add_time_feature(df_new_power_2018)"
   ]
  },
  {
   "cell_type": "code",
   "execution_count": 12,
   "metadata": {},
   "outputs": [],
   "source": [
    "df_new_power_kpx_ma_mean = df_new_power_2017.copy()\n",
    "new_df_kpx_ma = pd.merge(df_new_power_kpx_ma_mean, df_new_power_2018, how='inner',on=['month','day','hour'])"
   ]
  },
  {
   "cell_type": "code",
   "execution_count": 13,
   "metadata": {},
   "outputs": [],
   "source": [
    "new_df_kpx_ma = new_df_kpx_ma.rename(columns={'ma12_x':'ma12_2017','ma24_x':'ma24_2017','ma48_x':'ma48_2017',\n",
    "                                             'ma12_y':'ma12_2018','ma24_y':'ma24_2018','ma48_y':'ma48_2018',\n",
    "                                             'datetime_x':'datetime'})\n",
    "new_df_kpx_ma = new_df_kpx_ma.drop(['datetime_y'],axis=1)"
   ]
  },
  {
   "cell_type": "code",
   "execution_count": 14,
   "metadata": {},
   "outputs": [],
   "source": [
    "new_df_kpx_ma['ma_12_mean'] = (new_df_kpx_ma['ma12_2017']+new_df_kpx_ma['ma12_2018'])/2\n",
    "new_df_kpx_ma['ma_24_mean'] = (new_df_kpx_ma['ma24_2017']+new_df_kpx_ma['ma24_2018'])/2\n",
    "new_df_kpx_ma['ma_48_mean'] = (new_df_kpx_ma['ma48_2017']+new_df_kpx_ma['ma48_2018'])/2"
   ]
  },
  {
   "cell_type": "code",
   "execution_count": 15,
   "metadata": {},
   "outputs": [],
   "source": [
    "df_ma_new = new_df_kpx_ma.copy()"
   ]
  },
  {
   "cell_type": "markdown",
   "metadata": {},
   "source": [
    "#### 발전량 feature 추가"
   ]
  },
  {
   "cell_type": "code",
   "execution_count": 16,
   "metadata": {},
   "outputs": [],
   "source": [
    "import datetime\n",
    "df_ma = df_ma_new"
   ]
  },
  {
   "cell_type": "code",
   "execution_count": 92,
   "metadata": {},
   "outputs": [],
   "source": [
    "hours = [12,24,48]\n",
    "\n",
    "for hour in hours:\n",
    "    name = 'ma'+str(hour)+'_pre_year'\n",
    "    df[name]=0\n",
    "    for i in range(len(df)):\n",
    "        df[name][i] = load_power_ma_forecast(df['datetime(forecast)'][i], df_ma, hour)"
   ]
  },
  {
   "cell_type": "code",
   "execution_count": null,
   "metadata": {},
   "outputs": [],
   "source": [
    "hours = [12,24,48]\n",
    "\n",
    "for hour in hours:\n",
    "    name = 'ma'+str(hour)+'_mean'\n",
    "    df[name]=0\n",
    "    for i in range(len(df)):\n",
    "        df[name][i] = load_power_ma_forecast_mean(df['datetime(forecast)'][i], df_ma, hour)"
   ]
  },
  {
   "cell_type": "markdown",
   "metadata": {},
   "source": [
    "## feature windowing"
   ]
  },
  {
   "cell_type": "code",
   "execution_count": 17,
   "metadata": {},
   "outputs": [],
   "source": [
    "hour = [12,24]\n",
    "df_2 = fe_add_timestep(df,hour[0])\n",
    "df_2 = fe_add_timestep(df_2,hour[1])"
   ]
  },
  {
   "cell_type": "code",
   "execution_count": 32,
   "metadata": {},
   "outputs": [
    {
     "data": {
      "text/html": [
       "<div>\n",
       "<style scoped>\n",
       "    .dataframe tbody tr th:only-of-type {\n",
       "        vertical-align: middle;\n",
       "    }\n",
       "\n",
       "    .dataframe tbody tr th {\n",
       "        vertical-align: top;\n",
       "    }\n",
       "\n",
       "    .dataframe thead th {\n",
       "        text-align: right;\n",
       "    }\n",
       "</style>\n",
       "<table border=\"1\" class=\"dataframe\">\n",
       "  <thead>\n",
       "    <tr style=\"text-align: right;\">\n",
       "      <th></th>\n",
       "      <th>date</th>\n",
       "      <th>date(forecast)</th>\n",
       "      <th>datetime</th>\n",
       "      <th>datetime(forecast)</th>\n",
       "      <th>location</th>\n",
       "      <th>Weather Condition</th>\n",
       "      <th>Wind Speed(m/s)</th>\n",
       "      <th>Humidity(%)</th>\n",
       "      <th>Celsius(°C)</th>\n",
       "      <th>Wind Direction(16)</th>\n",
       "      <th>...</th>\n",
       "      <th>Wind Direction(16) (previous 24)</th>\n",
       "      <th>Rain Condition (previous 24)</th>\n",
       "      <th>Rainfall Probability (previous 24)</th>\n",
       "      <th>Rainfall (previous 24)</th>\n",
       "      <th>Snowfall (previous 24)</th>\n",
       "      <th>Celsius(Highest) (previous 24)</th>\n",
       "      <th>Celsius(Lowest) (previous 24)</th>\n",
       "      <th>wind_dir_cos (previous 24)</th>\n",
       "      <th>wind_dir_sin (previous 24)</th>\n",
       "      <th>new_wind_speed (previous 24)</th>\n",
       "    </tr>\n",
       "  </thead>\n",
       "  <tbody>\n",
       "    <tr>\n",
       "      <th>112827</th>\n",
       "      <td>2019-07-31</td>\n",
       "      <td>2019-08-03</td>\n",
       "      <td>2019-07-31 20:00:00</td>\n",
       "      <td>2019-08-03 12:00:00</td>\n",
       "      <td>Korea, Jeju-do, Seogwipo-si, Pyoseon-myeon</td>\n",
       "      <td>4.0</td>\n",
       "      <td>3.4</td>\n",
       "      <td>90.0</td>\n",
       "      <td>27.0</td>\n",
       "      <td>82.0</td>\n",
       "      <td>...</td>\n",
       "      <td>72.0</td>\n",
       "      <td>0.0</td>\n",
       "      <td>20.0</td>\n",
       "      <td>0.0</td>\n",
       "      <td>0.0</td>\n",
       "      <td>31.0</td>\n",
       "      <td>24.0</td>\n",
       "      <td>3.090170e-01</td>\n",
       "      <td>0.951057</td>\n",
       "      <td>-0.122148</td>\n",
       "    </tr>\n",
       "    <tr>\n",
       "      <th>112828</th>\n",
       "      <td>2019-07-31</td>\n",
       "      <td>2019-08-03</td>\n",
       "      <td>2019-07-31 23:00:00</td>\n",
       "      <td>2019-08-03 12:00:00</td>\n",
       "      <td>Korea, Jeju-do, Seogwipo-si, Pyoseon-myeon</td>\n",
       "      <td>4.0</td>\n",
       "      <td>3.4</td>\n",
       "      <td>90.0</td>\n",
       "      <td>27.0</td>\n",
       "      <td>82.0</td>\n",
       "      <td>...</td>\n",
       "      <td>72.0</td>\n",
       "      <td>0.0</td>\n",
       "      <td>20.0</td>\n",
       "      <td>0.0</td>\n",
       "      <td>0.0</td>\n",
       "      <td>31.0</td>\n",
       "      <td>24.0</td>\n",
       "      <td>3.090170e-01</td>\n",
       "      <td>0.951057</td>\n",
       "      <td>-0.122148</td>\n",
       "    </tr>\n",
       "    <tr>\n",
       "      <th>112829</th>\n",
       "      <td>2019-07-31</td>\n",
       "      <td>2019-08-03</td>\n",
       "      <td>2019-07-31 20:00:00</td>\n",
       "      <td>2019-08-03 15:00:00</td>\n",
       "      <td>Korea, Jeju-do, Seogwipo-si, Pyoseon-myeon</td>\n",
       "      <td>4.0</td>\n",
       "      <td>3.6</td>\n",
       "      <td>90.0</td>\n",
       "      <td>26.0</td>\n",
       "      <td>82.0</td>\n",
       "      <td>...</td>\n",
       "      <td>90.0</td>\n",
       "      <td>0.0</td>\n",
       "      <td>20.0</td>\n",
       "      <td>0.0</td>\n",
       "      <td>0.0</td>\n",
       "      <td>31.0</td>\n",
       "      <td>24.0</td>\n",
       "      <td>6.123234e-17</td>\n",
       "      <td>1.000000</td>\n",
       "      <td>-1.231273</td>\n",
       "    </tr>\n",
       "    <tr>\n",
       "      <th>112830</th>\n",
       "      <td>2019-07-31</td>\n",
       "      <td>2019-08-03</td>\n",
       "      <td>2019-07-31 23:00:00</td>\n",
       "      <td>2019-08-03 15:00:00</td>\n",
       "      <td>Korea, Jeju-do, Seogwipo-si, Pyoseon-myeon</td>\n",
       "      <td>4.0</td>\n",
       "      <td>3.6</td>\n",
       "      <td>90.0</td>\n",
       "      <td>26.0</td>\n",
       "      <td>82.0</td>\n",
       "      <td>...</td>\n",
       "      <td>90.0</td>\n",
       "      <td>0.0</td>\n",
       "      <td>20.0</td>\n",
       "      <td>0.0</td>\n",
       "      <td>0.0</td>\n",
       "      <td>31.0</td>\n",
       "      <td>24.0</td>\n",
       "      <td>6.123234e-17</td>\n",
       "      <td>1.000000</td>\n",
       "      <td>-1.231273</td>\n",
       "    </tr>\n",
       "    <tr>\n",
       "      <th>112831</th>\n",
       "      <td>2019-08-11</td>\n",
       "      <td>2019-08-11</td>\n",
       "      <td>2019-08-11 20:00:00</td>\n",
       "      <td>2019-08-11 00:00:00</td>\n",
       "      <td>Korea, Jeju-do, Seogwipo-si, Pyoseon-myeon</td>\n",
       "      <td>3.0</td>\n",
       "      <td>6.0</td>\n",
       "      <td>75.0</td>\n",
       "      <td>28.0</td>\n",
       "      <td>135.0</td>\n",
       "      <td>...</td>\n",
       "      <td>90.0</td>\n",
       "      <td>0.0</td>\n",
       "      <td>20.0</td>\n",
       "      <td>0.0</td>\n",
       "      <td>0.0</td>\n",
       "      <td>31.0</td>\n",
       "      <td>24.0</td>\n",
       "      <td>6.123234e-17</td>\n",
       "      <td>1.000000</td>\n",
       "      <td>-1.197071</td>\n",
       "    </tr>\n",
       "  </tbody>\n",
       "</table>\n",
       "<p>5 rows × 50 columns</p>\n",
       "</div>"
      ],
      "text/plain": [
       "             date date(forecast)            datetime  datetime(forecast)  \\\n",
       "112827 2019-07-31     2019-08-03 2019-07-31 20:00:00 2019-08-03 12:00:00   \n",
       "112828 2019-07-31     2019-08-03 2019-07-31 23:00:00 2019-08-03 12:00:00   \n",
       "112829 2019-07-31     2019-08-03 2019-07-31 20:00:00 2019-08-03 15:00:00   \n",
       "112830 2019-07-31     2019-08-03 2019-07-31 23:00:00 2019-08-03 15:00:00   \n",
       "112831 2019-08-11     2019-08-11 2019-08-11 20:00:00 2019-08-11 00:00:00   \n",
       "\n",
       "                                          location  Weather Condition  \\\n",
       "112827  Korea, Jeju-do, Seogwipo-si, Pyoseon-myeon                4.0   \n",
       "112828  Korea, Jeju-do, Seogwipo-si, Pyoseon-myeon                4.0   \n",
       "112829  Korea, Jeju-do, Seogwipo-si, Pyoseon-myeon                4.0   \n",
       "112830  Korea, Jeju-do, Seogwipo-si, Pyoseon-myeon                4.0   \n",
       "112831  Korea, Jeju-do, Seogwipo-si, Pyoseon-myeon                3.0   \n",
       "\n",
       "        Wind Speed(m/s)  Humidity(%)  Celsius(°C)  Wind Direction(16)  ...  \\\n",
       "112827              3.4         90.0         27.0                82.0  ...   \n",
       "112828              3.4         90.0         27.0                82.0  ...   \n",
       "112829              3.6         90.0         26.0                82.0  ...   \n",
       "112830              3.6         90.0         26.0                82.0  ...   \n",
       "112831              6.0         75.0         28.0               135.0  ...   \n",
       "\n",
       "        Wind Direction(16) (previous 24)  Rain Condition (previous 24)  \\\n",
       "112827                              72.0                           0.0   \n",
       "112828                              72.0                           0.0   \n",
       "112829                              90.0                           0.0   \n",
       "112830                              90.0                           0.0   \n",
       "112831                              90.0                           0.0   \n",
       "\n",
       "        Rainfall Probability (previous 24)  Rainfall (previous 24)  \\\n",
       "112827                                20.0                     0.0   \n",
       "112828                                20.0                     0.0   \n",
       "112829                                20.0                     0.0   \n",
       "112830                                20.0                     0.0   \n",
       "112831                                20.0                     0.0   \n",
       "\n",
       "        Snowfall (previous 24)  Celsius(Highest) (previous 24)  \\\n",
       "112827                     0.0                            31.0   \n",
       "112828                     0.0                            31.0   \n",
       "112829                     0.0                            31.0   \n",
       "112830                     0.0                            31.0   \n",
       "112831                     0.0                            31.0   \n",
       "\n",
       "       Celsius(Lowest) (previous 24) wind_dir_cos (previous 24)  \\\n",
       "112827                          24.0               3.090170e-01   \n",
       "112828                          24.0               3.090170e-01   \n",
       "112829                          24.0               6.123234e-17   \n",
       "112830                          24.0               6.123234e-17   \n",
       "112831                          24.0               6.123234e-17   \n",
       "\n",
       "       wind_dir_sin (previous 24)  new_wind_speed (previous 24)  \n",
       "112827                   0.951057                     -0.122148  \n",
       "112828                   0.951057                     -0.122148  \n",
       "112829                   1.000000                     -1.231273  \n",
       "112830                   1.000000                     -1.231273  \n",
       "112831                   1.000000                     -1.197071  \n",
       "\n",
       "[5 rows x 50 columns]"
      ]
     },
     "execution_count": 32,
     "metadata": {},
     "output_type": "execute_result"
    }
   ],
   "source": [
    "df_2.tail()            "
   ]
  },
  {
   "cell_type": "code",
   "execution_count": null,
   "metadata": {},
   "outputs": [],
   "source": [
    "df['year'] = df['datetime(forecast)'].dt.year\n",
    "df['month'] = df['datetime(forecast)'].dt.month\n",
    "df['day'] = df['datetime(forecast)'].dt.day\n",
    "df['hour'] = df['datetime(forecast)'].dt.hour\n",
    "df['dayofyear'] = df['datetime(forecast)'].dt.dayofyear"
   ]
  },
  {
   "cell_type": "code",
   "execution_count": 21,
   "metadata": {},
   "outputs": [],
   "source": [
    "df_2.to_pickle(os.path.abspath(os.path.join(os.getcwd(), '..', 'data','df_forecast_kpx_fe.pkl')))"
   ]
  },
  {
   "cell_type": "code",
   "execution_count": null,
   "metadata": {},
   "outputs": [],
   "source": []
  },
  {
   "cell_type": "markdown",
   "metadata": {},
   "source": [
    "# make test data"
   ]
  },
  {
   "cell_type": "code",
   "execution_count": 25,
   "metadata": {},
   "outputs": [],
   "source": [
    "df_final_forecast_kpx = pd.read_pickle(os.path.abspath(os.path.join(os.getcwd(),'..','data','data_to_final','final_kpx_forecast.pkl')))"
   ]
  },
  {
   "cell_type": "code",
   "execution_count": 27,
   "metadata": {},
   "outputs": [],
   "source": [
    "df_test = df_final_forecast_kpx.copy()"
   ]
  },
  {
   "cell_type": "code",
   "execution_count": 28,
   "metadata": {},
   "outputs": [],
   "source": [
    "df_test_x = df_test.sort_values(by=['datetime'])\n",
    "df_test_x_2 = df_test_x[df_test_x['datetime'] == datetime.datetime(2019,8,12,14,0)].reset_index(drop=True)\n",
    "df = df_test_x_2.sort_values(by=['datetime(forecast)']).copy().reset_index(drop=True)"
   ]
  },
  {
   "cell_type": "code",
   "execution_count": 29,
   "metadata": {},
   "outputs": [],
   "source": [
    "df['datetime(forecast)'].loc[0] = datetime.datetime(2019,8,13,0,0)\n",
    "df['datetime(forecast)'].loc[4] = datetime.datetime(2019,8,14,0,0)"
   ]
  },
  {
   "cell_type": "code",
   "execution_count": 30,
   "metadata": {},
   "outputs": [],
   "source": [
    "df = df.sort_values(by=['datetime(forecast)']).reset_index(drop=True)"
   ]
  },
  {
   "cell_type": "code",
   "execution_count": 31,
   "metadata": {},
   "outputs": [],
   "source": [
    "df = wind_cos_sin(df_2)\n",
    "df = new_wind_speed_direction(df,340)"
   ]
  },
  {
   "cell_type": "code",
   "execution_count": null,
   "metadata": {},
   "outputs": [],
   "source": []
  }
 ],
 "metadata": {
  "kernelspec": {
   "display_name": "Python 3",
   "language": "python",
   "name": "python3"
  },
  "language_info": {
   "codemirror_mode": {
    "name": "ipython",
    "version": 3
   },
   "file_extension": ".py",
   "mimetype": "text/x-python",
   "name": "python",
   "nbconvert_exporter": "python",
   "pygments_lexer": "ipython3",
   "version": "3.6.8"
  }
 },
 "nbformat": 4,
 "nbformat_minor": 4
}
