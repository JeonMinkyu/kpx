{
 "cells": [
  {
   "cell_type": "code",
   "execution_count": 14,
   "metadata": {},
   "outputs": [],
   "source": [
    "import pandas as pd\n",
    "import numpy as np\n",
    "import matplotlib.pyplot as plt\n",
    "import seaborn as sns\n",
    "import matplotlib.pyplot as plt\n",
    "import os\n",
    "import datetime\n",
    "import math\n",
    "pd.options.mode.chained_assignment = None\n",
    "from sklearn.metrics import mean_squared_error\n",
    "from sklearn.preprocessing import MinMaxScaler\n",
    "from sklearn.preprocessing import StandardScaler\n",
    "from sklearn.model_selection import train_test_split\n",
    "from sklearn.metrics import r2_score\n",
    "from sklearn.model_selection import TimeSeriesSplit\n",
    "\n",
    "from GPyOpt.methods import BayesianOptimization\n",
    "def warn(*args, **kwargs):\n",
    "    pass\n",
    "import warnings\n",
    "warnings.warn = warn\n",
    "\n",
    "from preprocess.functions.date_inspector import load_files\n",
    "from eda.functions.eda import show_relative_density_plot, relative_density_plot\n",
    "from functions.evaluate import EnsembledRegressor, evaluate_idea, nMAE"
   ]
  },
  {
   "cell_type": "code",
   "execution_count": 2,
   "metadata": {},
   "outputs": [],
   "source": [
    "# regression models\n",
    "from xgboost import XGBRegressor\n",
    "from catboost import CatBoostRegressor\n",
    "from lightgbm import LGBMRegressor\n",
    "\n",
    "reg1 = XGBRegressor(verbose=0)\n",
    "reg2 = CatBoostRegressor(verbose=0)\n",
    "reg3 = LGBMRegressor(verbose=0)"
   ]
  },
  {
   "cell_type": "code",
   "execution_count": 3,
   "metadata": {},
   "outputs": [],
   "source": [
    "df = pd.read_pickle(os.path.abspath(os.path.join(os.getcwd(), '..', 'data','df_forecast_kpx_fe.pkl')))"
   ]
  },
  {
   "cell_type": "markdown",
   "metadata": {},
   "source": [
    "# Bayesian Optimization\n",
    "refer : https://github.com/fmfn/BayesianOptimization"
   ]
  },
  {
   "cell_type": "code",
   "execution_count": 15,
   "metadata": {
    "collapsed": true,
    "jupyter": {
     "outputs_hidden": true
    }
   },
   "outputs": [
    {
     "ename": "ModuleNotFoundError",
     "evalue": "No module named 'bayes_opt'",
     "output_type": "error",
     "traceback": [
      "\u001b[0;31m---------------------------------------------------------------------------\u001b[0m",
      "\u001b[0;31mModuleNotFoundError\u001b[0m                       Traceback (most recent call last)",
      "\u001b[0;32m<ipython-input-15-e94293503d61>\u001b[0m in \u001b[0;36m<module>\u001b[0;34m\u001b[0m\n\u001b[1;32m      1\u001b[0m \u001b[0;32mimport\u001b[0m \u001b[0mxgboost\u001b[0m \u001b[0;32mas\u001b[0m \u001b[0mxgb\u001b[0m\u001b[0;34m\u001b[0m\u001b[0;34m\u001b[0m\u001b[0m\n\u001b[0;32m----> 2\u001b[0;31m \u001b[0;32mfrom\u001b[0m \u001b[0mbayes_opt\u001b[0m \u001b[0;32mimport\u001b[0m \u001b[0mBayesianOptimization\u001b[0m\u001b[0;34m\u001b[0m\u001b[0;34m\u001b[0m\u001b[0m\n\u001b[0m\u001b[1;32m      3\u001b[0m \u001b[0;32mfrom\u001b[0m \u001b[0msklearn\u001b[0m\u001b[0;34m.\u001b[0m\u001b[0mmetrics\u001b[0m \u001b[0;32mimport\u001b[0m \u001b[0mmean_squared_error\u001b[0m\u001b[0;34m\u001b[0m\u001b[0;34m\u001b[0m\u001b[0m\n",
      "\u001b[0;31mModuleNotFoundError\u001b[0m: No module named 'bayes_opt'"
     ]
    }
   ],
   "source": [
    "import xgboost as xgb\n",
    "from bayes_opt import BayesianOptimization\n",
    "from sklearn.metrics import mean_squared_error"
   ]
  },
  {
   "cell_type": "code",
   "execution_count": null,
   "metadata": {},
   "outputs": [],
   "source": [
    "y = df['Power Generation(kW)+0']#, 'Power Generation(kW)+1','Power Generation(kW)+2']#.values\n",
    "X = df.drop(['Power Generation(kW)+0','Power Generation(kW)+1','Power Generation(kW)+2','datetime','date','date(forecast)','datetime(forecast)','location'],axis=1)#.values"
   ]
  },
  {
   "cell_type": "code",
   "execution_count": 16,
   "metadata": {},
   "outputs": [],
   "source": [
    "domain = {'max_bin':(200,300),'learning_rate' : (0.0001,1) , 'n_estimators' : (50,200), 'num_leaves' :(20,100),\n",
    "          'min_child_weight' : (0.001,1), 'min_data_in_leaf':(30,100)}"
   ]
  },
  {
   "cell_type": "code",
   "execution_count": 17,
   "metadata": {},
   "outputs": [],
   "source": [
    "def f(max_bin,learning_rate, n_estimators, num_leaves,min_child_weight, min_data_in_leaf) :\n",
    "    max_bin = int(max_bin)\n",
    "    \n",
    "    learning_rate = learning_rate\n",
    "    n_estimators = int(n_estimators)\n",
    "    num_leaves = int(num_leaves)\n",
    "    min_child_weight = min_child_weight\n",
    "    min_data_in_leaf = int(min_data_in_leaf)\n",
    "\n",
    "    tscv = TimeSeriesSplit(n_splits=5)\n",
    "    TimeSeriesSplit(max_train_size=None, n_splits=5)\n",
    "    result = pd.DataFrame(columns=['train', 'test'])\n",
    "    result_nmae = pd.DataFrame(columns=['train_nmae','test_nmae'])\n",
    "    for idx, (train_index, test_index) in enumerate(tscv.split(X)) :\n",
    "        #print('TRAIN:', train_index.shape[0], 'TEST:', test_index.shape[0])\n",
    "        x_train, x_test = X.iloc[train_index], X.iloc[test_index]\n",
    "        y_train, y_test = y.iloc[train_index], y.iloc[test_index]\n",
    "        model = LGBMRegressor(max_bin=max_bin, learning_rate=learning_rate, n_estimators=n_estimators,\n",
    "                              num_leaves=num_leaves, min_child_weight=min_child_weight, min_data_in_leaf=min_data_in_leaf,verbose=0)\n",
    "        model.fit(x_train, y_train)\n",
    "        y_train_hat = model.predict(x_train)\n",
    "        y_test_hat = model.predict(x_test)\n",
    "        result.loc[idx] = [r2_score(y_train_hat, y_train), r2_score(y_test_hat, y_test)]\n",
    "        result_nmae.loc[idx] = [nMAE(y_train_hat, y_train), nMAE(y_test_hat, y_test)]\n",
    "\n",
    "#     display(result)\n",
    "#     display(result_nmae)\n",
    "    return -(result_nmae['test_nmae'].iloc[4])"
   ]
  },
  {
   "cell_type": "code",
   "execution_count": null,
   "metadata": {},
   "outputs": [],
   "source": [
    "xgb_bo = BayesianOptimization(\n",
    "    f = f,\n",
    "    pbounds = domain,\n",
    "    verbose=2,\n",
    "    random_state=1,\n",
    ")"
   ]
  },
  {
   "cell_type": "code",
   "execution_count": null,
   "metadata": {},
   "outputs": [],
   "source": [
    "xgb_bo.maximize(init_points=3, n_iter=10, acq='ei')"
   ]
  }
 ],
 "metadata": {
  "kernelspec": {
   "display_name": "Python 3",
   "language": "python",
   "name": "python3"
  },
  "language_info": {
   "codemirror_mode": {
    "name": "ipython",
    "version": 3
   },
   "file_extension": ".py",
   "mimetype": "text/x-python",
   "name": "python",
   "nbconvert_exporter": "python",
   "pygments_lexer": "ipython3",
   "version": "3.6.8"
  }
 },
 "nbformat": 4,
 "nbformat_minor": 4
}
