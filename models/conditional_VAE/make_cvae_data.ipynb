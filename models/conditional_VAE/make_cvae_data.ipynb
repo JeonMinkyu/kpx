{
 "cells": [
  {
   "cell_type": "code",
   "execution_count": 1,
   "metadata": {},
   "outputs": [],
   "source": [
    "# Load Packages\n",
    "import pandas as pd\n",
    "import numpy as np\n",
    "import pickle\n",
    "import os\n",
    "import datetime\n",
    "import math"
   ]
  },
  {
   "cell_type": "code",
   "execution_count": 2,
   "metadata": {},
   "outputs": [],
   "source": [
    "df_kpx_ma = pd.read_pickle(os.path.abspath(os.path.join(os.getcwd(),'..','..','data','df_forecast_kpx_merged_ma.pkl')))\n",
    "df_hk_ma = pd.read_pickle(os.path.abspath(os.path.join(os.getcwd(),'..','..','data','df_forecast_hk_merged_ma.pkl')))\n",
    "df_ss_ma = pd.read_pickle(os.path.abspath(os.path.join(os.getcwd(),'..','..','data','df_forecast_ss_merged_ma.pkl')))"
   ]
  },
  {
   "cell_type": "code",
   "execution_count": 3,
   "metadata": {},
   "outputs": [],
   "source": [
    "import os\n",
    "import time\n",
    "import torch\n",
    "import argparse\n",
    "import pandas as pd\n",
    "import seaborn as sns\n",
    "import matplotlib.pyplot as plt\n",
    "from torchvision import transforms\n",
    "import torchvision\n",
    "from torchvision.datasets import MNIST\n",
    "from torch.utils.data import Dataset, DataLoader\n",
    "from collections import defaultdict"
   ]
  },
  {
   "cell_type": "code",
   "execution_count": 4,
   "metadata": {},
   "outputs": [],
   "source": [
    "df_kpx_ma = df_kpx_ma.fillna(method='ffill')\n",
    "df_hk_ma = df_hk_ma.fillna(method='ffill')\n",
    "df_ss_ma = df_ss_ma.fillna(method='ffill')"
   ]
  },
  {
   "cell_type": "code",
   "execution_count": 5,
   "metadata": {},
   "outputs": [],
   "source": [
    "#위치 labeling\n",
    "df_kpx_ma['location'] = 0\n",
    "df_hk_ma['location'] = 1\n",
    "df_ss_ma['location'] = 2"
   ]
  },
  {
   "cell_type": "code",
   "execution_count": 6,
   "metadata": {},
   "outputs": [],
   "source": [
    "# df_hk_ma = df_hk_ma.rename(columns={'ma48_hk_pre_year':'ma48_pre_year','ma48_hk_mean':'ma48_mean'})\n",
    "# df_ss_ma = df_ss_ma.rename(columns={'ma48_ss_pre_year':'ma48_pre_year','ma48_ss_mean':'ma48_mean'})"
   ]
  },
  {
   "cell_type": "code",
   "execution_count": 7,
   "metadata": {},
   "outputs": [
    {
     "name": "stderr",
     "output_type": "stream",
     "text": [
      "/home/jeon/.local/lib/python3.6/site-packages/ipykernel_launcher.py:1: FutureWarning: Sorting because non-concatenation axis is not aligned. A future version\n",
      "of pandas will change to not sort by default.\n",
      "\n",
      "To accept the future behavior, pass 'sort=False'.\n",
      "\n",
      "To retain the current behavior and silence the warning, pass 'sort=True'.\n",
      "\n",
      "  \"\"\"Entry point for launching an IPython kernel.\n"
     ]
    }
   ],
   "source": [
    "new_data = pd.concat([df_kpx_ma,df_hk_ma,df_ss_ma], axis=0)\n",
    "new_data = new_data.reset_index(drop=True)"
   ]
  },
  {
   "cell_type": "code",
   "execution_count": 8,
   "metadata": {},
   "outputs": [],
   "source": [
    "df_1 = new_data.drop(['datetime','date','datetime(forecast)','date(forecast)','location','Power Generation(kW)+0','Power Generation(kW)+1',\n",
    "                     'Power Generation(kW)+2'],axis=1)"
   ]
  },
  {
   "cell_type": "code",
   "execution_count": 9,
   "metadata": {},
   "outputs": [],
   "source": [
    "#### Scaling\n",
    "from sklearn.preprocessing import MinMaxScaler\n",
    "\n",
    "scaler = MinMaxScaler()\n",
    "scaler.fit(df_1)\n",
    "df_scaled=scaler.transform(df_1)"
   ]
  },
  {
   "cell_type": "code",
   "execution_count": 10,
   "metadata": {},
   "outputs": [],
   "source": [
    "df_new = pd.DataFrame(df_scaled,columns=df_1.columns)\n",
    "# df_new['date'] = new_data['date']\n",
    "# df_new['datetime'] = new_data['datetime']\n",
    "# df_new['date(forecast)'] = new_data['date(forecast)']\n",
    "# df_new['datetime(forecast)'] = new_data['datetime(forecast)']\n",
    "df_new['location'] = new_data['location']"
   ]
  },
  {
   "cell_type": "code",
   "execution_count": 11,
   "metadata": {},
   "outputs": [
    {
     "data": {
      "text/plain": [
       "Index(['Celsius(Highest)', 'Celsius(Lowest)', 'Celsius(°C)', 'Humidity(%)',\n",
       "       'Rain Condition', 'Rainfall', 'Rainfall Probability', 'Snowfall',\n",
       "       'Weather Condition', 'Wind Direction(16)', 'Wind Speed(m/s)', 'day',\n",
       "       'dayofyear', 'hour', 'ma48_mean', 'ma48_pre_year', 'month', 'year',\n",
       "       'location'],\n",
       "      dtype='object')"
      ]
     },
     "execution_count": 11,
     "metadata": {},
     "output_type": "execute_result"
    }
   ],
   "source": [
    "df_new.columns"
   ]
  },
  {
   "cell_type": "code",
   "execution_count": 12,
   "metadata": {},
   "outputs": [],
   "source": [
    "df_new.to_pickle(\"new_data_cvae.pkl\")"
   ]
  },
  {
   "cell_type": "code",
   "execution_count": null,
   "metadata": {},
   "outputs": [],
   "source": []
  }
 ],
 "metadata": {
  "kernelspec": {
   "display_name": "Python 3",
   "language": "python",
   "name": "python3"
  },
  "language_info": {
   "codemirror_mode": {
    "name": "ipython",
    "version": 3
   },
   "file_extension": ".py",
   "mimetype": "text/x-python",
   "name": "python",
   "nbconvert_exporter": "python",
   "pygments_lexer": "ipython3",
   "version": "3.6.8"
  }
 },
 "nbformat": 4,
 "nbformat_minor": 4
}
