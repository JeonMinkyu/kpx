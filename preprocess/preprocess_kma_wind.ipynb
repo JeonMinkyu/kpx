{
 "cells": [
  {
   "cell_type": "markdown",
   "metadata": {},
   "source": [
    "# kma 풍속, 풍향 Historical Data Preprocess"
   ]
  },
  {
   "cell_type": "code",
   "execution_count": 1,
   "metadata": {},
   "outputs": [],
   "source": [
    "%load_ext autoreload\n",
    "%autoreload 2"
   ]
  },
  {
   "cell_type": "code",
   "execution_count": 2,
   "metadata": {},
   "outputs": [],
   "source": [
    "import pandas as pd\n",
    "import numpy as np\n",
    "import matplotlib.pyplot as plt\n",
    "import os\n",
    "import datetime\n",
    "import math\n",
    "from ipywidgets import interact, interact_manual\n",
    "pd.options.mode.chained_assignment = None"
   ]
  },
  {
   "cell_type": "code",
   "execution_count": 3,
   "metadata": {},
   "outputs": [
    {
     "name": "stdout",
     "output_type": "stream",
     "text": [
      "/home/jeon/Desktop/kpx/data/raw/kma\n"
     ]
    }
   ],
   "source": [
    "data_dir = os.path.abspath(os.path.join(os.getcwd(), '..', 'data', 'raw', 'kma'))\n",
    "print(data_dir)"
   ]
  },
  {
   "cell_type": "code",
   "execution_count": 4,
   "metadata": {},
   "outputs": [],
   "source": [
    "def preprocess_wind(data_dir, filename, location) :\n",
    "    file_dir = os.path.abspath(os.path.join(os.getcwd(), '..', 'data', 'raw', 'kma', filename))\n",
    "    df_temp = pd.read_csv(file_dir, encoding = \"ISO-8859-1\")\n",
    "    df_temp = df_temp.drop(df_temp.columns[[0, 3, 5]], axis=1)\n",
    "    \n",
    "    df = pd.DataFrame(columns=['datetime', 'date', 'location', '풍속(m/s)', '풍향(16방위)'])\n",
    "    df['datetime'] = df_temp[df_temp.columns[0]]\n",
    "    df['풍속(m/s)'] = df_temp[df_temp.columns[1]]\n",
    "    df['풍향(16방위)'] = df_temp[df_temp.columns[2]]\n",
    "    df['location'] = df['location'].apply(lambda x : location)\n",
    "    df['datetime'] = pd.to_datetime(df['datetime'])\n",
    "    df['date'] = df['datetime'].dt.date\n",
    "    \n",
    "    return df"
   ]
  },
  {
   "cell_type": "code",
   "execution_count": 5,
   "metadata": {},
   "outputs": [],
   "source": [
    "def show_all_days(df, height, width) : \n",
    "    print(df['date'].unique().shape[0])\n",
    "    \n",
    "    b = 10\n",
    "    a = math.ceil(df['date'].unique().shape[0]/b)\n",
    "    n = 0\n",
    "    \n",
    "    fig, axs = plt.subplots(a,b)\n",
    "    fig.set_figheight(height)\n",
    "    fig.set_figwidth(width)\n",
    "    \n",
    "    for i in range(a) :\n",
    "        for j in range(b) :\n",
    "            try :\n",
    "                axs[i, j].plot(df[df['date']==df['date'].unique()[b*i + j]]['풍속(m/s)']*100, color='skyblue')\n",
    "                axs[i, j].plot(df[df['date']==df['date'].unique()[b*i + j]]['풍향(16방위)'], color='orange')\n",
    "                axs[i, j].set_title(df['date'].unique()[b*i + j])\n",
    "            except Exception as e:\n",
    "                n += 1\n",
    "                \n",
    "    plt.tight_layout()\n",
    "    plt.show()\n",
    "    return"
   ]
  },
  {
   "cell_type": "code",
   "execution_count": 6,
   "metadata": {},
   "outputs": [],
   "source": [
    "def oneshot(data_dir, filename, location, filename_tosave) :\n",
    "    df = preprocess_wind(data_dir, filename, location)\n",
    "    display(df.head())\n",
    "    display(df.tail())\n",
    "    show_all_days(df, 60, 20)\n",
    "    df.to_pickle(os.path.abspath(os.path.join(os.getcwd(), '..', 'data', 'filename_tosave')))\n",
    "    return"
   ]
  },
  {
   "cell_type": "markdown",
   "metadata": {},
   "source": [
    "## 충남 서산시 수석동"
   ]
  },
  {
   "cell_type": "code",
   "execution_count": 7,
   "metadata": {},
   "outputs": [],
   "source": [
    "filename = '풍속풍향_충남_서산시_수석동_2018.csv'\n",
    "location = 'Korea, Chungcheongnam-do, Seosan-si, Suseok-dong'\n",
    "filename_tosave = 'df_kma_wind_Chungcheongnam-do_Seosan-si_Suseok-dong_2018.pkl'"
   ]
  },
  {
   "cell_type": "markdown",
   "metadata": {},
   "source": [
    "- 하늘색 : 풍속 * 100\n",
    "- 주황색 : 풍향"
   ]
  },
  {
   "cell_type": "code",
   "execution_count": null,
   "metadata": {},
   "outputs": [],
   "source": [
    "oneshot(data_dir, filename, location, filename_tosave)"
   ]
  }
 ],
 "metadata": {
  "kernelspec": {
   "display_name": "Python 3",
   "language": "python",
   "name": "python3"
  },
  "language_info": {
   "codemirror_mode": {
    "name": "ipython",
    "version": 3
   },
   "file_extension": ".py",
   "mimetype": "text/x-python",
   "name": "python",
   "nbconvert_exporter": "python",
   "pygments_lexer": "ipython3",
   "version": "3.6.8"
  }
 },
 "nbformat": 4,
 "nbformat_minor": 4
}
