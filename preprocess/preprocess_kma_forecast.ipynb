{
 "cells": [
  {
   "cell_type": "markdown",
   "metadata": {},
   "source": [
    "# kma 일기예보 Historical Data Preprocess"
   ]
  },
  {
   "cell_type": "markdown",
   "metadata": {},
   "source": [
    "- 3시간단위로 나오는 데이터 : 3시간기온, 강수형태, 강수확률, 습도, 풍속, 풍향, 하늘상태\n",
    "- 6시간단위로 나오는 데이터 : 6시간강수량, 6시간적설\n",
    "- 각 시간별로 4시간, 7시간, 10시간 뒤만 예보함 : 일최고기온, 일최저기온"
   ]
  },
  {
   "cell_type": "code",
   "execution_count": 1,
   "metadata": {},
   "outputs": [],
   "source": [
    "%load_ext autoreload\n",
    "%autoreload 2"
   ]
  },
  {
   "cell_type": "code",
   "execution_count": 2,
   "metadata": {},
   "outputs": [],
   "source": [
    "import pandas as pd\n",
    "import numpy as np\n",
    "import matplotlib.pyplot as plt\n",
    "import os\n",
    "import datetime\n",
    "from ipywidgets import interact, interact_manual\n",
    "pd.options.mode.chained_assignment = None\n",
    "\n",
    "from functions.kma_forecast import interval6_to_interval3, preprocess_hour_interval, get_df_temp, merge_df, preprocess_forecast"
   ]
  },
  {
   "cell_type": "code",
   "execution_count": 3,
   "metadata": {},
   "outputs": [
    {
     "name": "stdout",
     "output_type": "stream",
     "text": [
      "/home/jeon/Desktop/kpx/data/raw/kma\n"
     ]
    }
   ],
   "source": [
    "data_dir = os.path.abspath(os.path.join(os.getcwd(), '..', 'data', 'raw', 'kma'))\n",
    "print(data_dir)"
   ]
  },
  {
   "cell_type": "code",
   "execution_count": 4,
   "metadata": {},
   "outputs": [],
   "source": [
    "def oneshot(data_dir, location_year, location_column, filename_tosave) :\n",
    "    df = preprocess_forecast(data_dir, location_year, location_column)\n",
    "    df.to_pickle(os.path.abspath(os.path.join(os.getcwd(), '..', 'data', filename_tosave)))\n",
    "    display(df.head())\n",
    "    display(df.tail())\n",
    "    return"
   ]
  },
  {
   "cell_type": "markdown",
   "metadata": {},
   "source": [
    "## 일기예보, 충남 당진시 석문면 2017~2019"
   ]
  },
  {
   "cell_type": "code",
   "execution_count": 7,
   "metadata": {},
   "outputs": [],
   "source": [
    "years = [2017,2018,2019]\n",
    "\n",
    "for year in years:\n",
    "    location_year = '충남_당진시_석문면_'+str(year)\n",
    "    location_column = 'Korea, Chungcheongnam-do, Dangjin-si, Seongmun-myeon' # df 에 들어가는 이름\n",
    "\n",
    "    location_filename = 'Chungcheongnam-do_Dangjin-si_Seongmun-myeon' # 파일이름으로 사용\n",
    "    filename_tosave = 'df_kma_forecast_'+location_filename+'_'+str(year)+'.pkl'\n",
    "\n",
    "    oneshot(data_dir, location_year, location_column, filename_tosave)"
   ]
  },
  {
   "cell_type": "markdown",
   "metadata": {},
   "source": [
    "## 일기예보, 전남 해남군 황산면 2017~2019"
   ]
  },
  {
   "cell_type": "code",
   "execution_count": null,
   "metadata": {},
   "outputs": [],
   "source": [
    "years = [2017,2018,2019]\n",
    "for year in years:\n",
    "    location_year = '전남_해남군_황산면_'+str(year)\n",
    "    location_column = 'Korea, Jeollanam-do, Haenam-gun, Hwangsan-myeon' # df 에 들어가는 이름\n",
    "\n",
    "    location_filename = 'Jeollanam-do_Haenam-gun_Hwangsan-myeon' # 파일이름으로 사용\n",
    "    filename_tosave = 'df_kma_forecast_'+location_filename+'_'+str(year)+'.pkl'\n",
    "\n",
    "    oneshot(data_dir, location_year, location_column, filename_tosave)"
   ]
  },
  {
   "cell_type": "markdown",
   "metadata": {},
   "source": [
    "## 일기예보, 제주 서귀포시 표선면 2017~2019"
   ]
  },
  {
   "cell_type": "code",
   "execution_count": null,
   "metadata": {},
   "outputs": [],
   "source": [
    "years = [2017, 2018, 2019]\n",
    "\n",
    "for year in years:\n",
    "    location_year = '제주_서귀포시_표선면_'+str(year)\n",
    "    location_column = 'Korea, Jeju-do, Seogwipo-si, Pyoseon-myeon' # df 에 들어가는 이름\n",
    "\n",
    "    location_filename = 'Jeju-do_Seogwipo-si_Pyoseon-myeon' # 파일이름으로 사용\n",
    "    filename_tosave = 'df_kma_forecast_'+location_filename+'_'+str(year)+'.pkl'\n",
    "\n",
    "    oneshot(data_dir, location_year, location_column, filename_tosave)"
   ]
  },
  {
   "cell_type": "markdown",
   "metadata": {},
   "source": [
    "# 일기예보 제주도 제주시 한경면 2014~2017"
   ]
  },
  {
   "cell_type": "code",
   "execution_count": null,
   "metadata": {},
   "outputs": [],
   "source": [
    "years = [2014, 2015, 2016, 2017]\n",
    "\n",
    "for year in years:\n",
    "    location_year = '제주도_제주시_한경면_'+str(year)\n",
    "    location_column = 'Korea, Jeju-do, Jeju-si, Hankyung-myeon' # df 에 들어가는 이름\n",
    "\n",
    "    location_filename = 'Jeju-do_Jeju-si_Hankyung-myeon' # 파일이름으로 사용\n",
    "    filename_tosave = 'df_kma_forecast_'+location_filename+'_'+str(year)+'.pkl'\n",
    "\n",
    "    oneshot(data_dir, location_year, location_column, filename_tosave)"
   ]
  },
  {
   "cell_type": "markdown",
   "metadata": {},
   "source": [
    "# 제주도 서귀포시 성산읍 2014~2017"
   ]
  },
  {
   "cell_type": "code",
   "execution_count": null,
   "metadata": {},
   "outputs": [],
   "source": [
    "years = [2014,2015,2016,2017]\n",
    "\n",
    "for year in years:\n",
    "    location_year = '제주도_서귀포시_성산읍_'+str(year)\n",
    "    location_column = 'Korea, Jeju-do, Seogwipo-si, Sungsan-eup' # df 에 들어가는 이름\n",
    "\n",
    "    location_filename = 'Jeju-do_Seogwipo-si_Sungsan-eup' # 파일이름으로 사용\n",
    "    filename_tosave = 'df_kma_forecast_'+location_filename+'_'+str(year)+'.pkl'\n",
    "\n",
    "    oneshot(data_dir, location_year, location_column, filename_tosave)"
   ]
  },
  {
   "cell_type": "code",
   "execution_count": null,
   "metadata": {},
   "outputs": [],
   "source": []
  }
 ],
 "metadata": {
  "kernelspec": {
   "display_name": "Python 3",
   "language": "python",
   "name": "python3"
  },
  "language_info": {
   "codemirror_mode": {
    "name": "ipython",
    "version": 3
   },
   "file_extension": ".py",
   "mimetype": "text/x-python",
   "name": "python",
   "nbconvert_exporter": "python",
   "pygments_lexer": "ipython3",
   "version": "3.6.8"
  }
 },
 "nbformat": 4,
 "nbformat_minor": 4
}
